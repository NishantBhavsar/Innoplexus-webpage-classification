{
 "cells": [
  {
   "cell_type": "markdown",
   "metadata": {
    "colab_type": "text",
    "id": "eKDcTbT9OV3S"
   },
   "source": [
    "# Colab setup"
   ]
  },
  {
   "cell_type": "code",
   "execution_count": 1,
   "metadata": {
    "colab": {
     "base_uri": "https://localhost:8080/",
     "height": 272
    },
    "colab_type": "code",
    "executionInfo": {
     "elapsed": 10250,
     "status": "ok",
     "timestamp": 1534079083169,
     "user": {
      "displayName": "Nishant Bhavsar",
      "photoUrl": "//lh6.googleusercontent.com/-Rn6jrAUH2RM/AAAAAAAAAAI/AAAAAAAAAA0/SbeLycr5PD8/s50-c-k-no/photo.jpg",
      "userId": "116097562907942520132"
     },
     "user_tz": -330
    },
    "id": "prFZGfEbBqUk",
    "outputId": "b06ec726-3005-411e-c48b-12f53d98e48f"
   },
   "outputs": [
    {
     "data": {
      "text/plain": [
       "[name: \"/device:CPU:0\"\n",
       " device_type: \"CPU\"\n",
       " memory_limit: 268435456\n",
       " locality {\n",
       " }\n",
       " incarnation: 7038295491076765339, name: \"/device:GPU:0\"\n",
       " device_type: \"GPU\"\n",
       " memory_limit: 11281989632\n",
       " locality {\n",
       "   bus_id: 1\n",
       "   links {\n",
       "   }\n",
       " }\n",
       " incarnation: 5904293589202861081\n",
       " physical_device_desc: \"device: 0, name: Tesla K80, pci bus id: 0000:00:04.0, compute capability: 3.7\"]"
      ]
     },
     "execution_count": 1,
     "metadata": {
      "tags": []
     },
     "output_type": "execute_result"
    }
   ],
   "source": [
    "from tensorflow.python.client import device_lib\n",
    "device_lib.list_local_devices()"
   ]
  },
  {
   "cell_type": "code",
   "execution_count": 74,
   "metadata": {
    "colab": {
     "base_uri": "https://localhost:8080/",
     "height": 782
    },
    "colab_type": "code",
    "executionInfo": {
     "elapsed": 1936,
     "status": "ok",
     "timestamp": 1534082629265,
     "user": {
      "displayName": "Nishant Bhavsar",
      "photoUrl": "//lh6.googleusercontent.com/-Rn6jrAUH2RM/AAAAAAAAAAI/AAAAAAAAAA0/SbeLycr5PD8/s50-c-k-no/photo.jpg",
      "userId": "116097562907942520132"
     },
     "user_tz": -330
    },
    "id": "og1gz58GB3EU",
    "outputId": "c4467b8d-6e1f-49a2-91e4-c159ffd192a4"
   },
   "outputs": [
    {
     "name": "stdout",
     "output_type": "stream",
     "text": [
      "MemTotal:       13335192 kB\r\n",
      "MemFree:          147032 kB\r\n",
      "MemAvailable:   11539536 kB\r\n",
      "Buffers:          154392 kB\r\n",
      "Cached:         10161620 kB\r\n",
      "SwapCached:            0 kB\r\n",
      "Active:          1525760 kB\r\n",
      "Inactive:       10875376 kB\r\n",
      "Active(anon):    1158976 kB\r\n",
      "Inactive(anon):    86420 kB\r\n",
      "Active(file):     366784 kB\r\n",
      "Inactive(file): 10788956 kB\r\n",
      "Unevictable:           0 kB\r\n",
      "Mlocked:               0 kB\r\n",
      "SwapTotal:             0 kB\r\n",
      "SwapFree:              0 kB\r\n",
      "Dirty:               552 kB\r\n",
      "Writeback:             0 kB\r\n",
      "AnonPages:       2085164 kB\r\n",
      "Mapped:           434320 kB\r\n",
      "Shmem:            257020 kB\r\n",
      "Slab:             608616 kB\r\n",
      "SReclaimable:     562904 kB\r\n",
      "SUnreclaim:        45712 kB\r\n",
      "KernelStack:        3808 kB\r\n",
      "PageTables:        10016 kB\r\n",
      "NFS_Unstable:          0 kB\r\n",
      "Bounce:                0 kB\r\n",
      "WritebackTmp:          0 kB\r\n",
      "CommitLimit:     6667596 kB\r\n",
      "Committed_AS:    4026384 kB\r\n",
      "VmallocTotal:   34359738367 kB\r\n",
      "VmallocUsed:           0 kB\r\n",
      "VmallocChunk:          0 kB\r\n",
      "AnonHugePages:         0 kB\r\n",
      "ShmemHugePages:        0 kB\r\n",
      "ShmemPmdMapped:        0 kB\r\n",
      "HugePages_Total:       0\r\n",
      "HugePages_Free:        0\r\n",
      "HugePages_Rsvd:        0\r\n",
      "HugePages_Surp:        0\r\n",
      "Hugepagesize:       2048 kB\r\n",
      "DirectMap4k:      190412 kB\r\n",
      "DirectMap2M:    10295296 kB\r\n",
      "DirectMap1G:     5242880 kB\r\n"
     ]
    }
   ],
   "source": [
    "!cat /proc/meminfo"
   ]
  },
  {
   "cell_type": "code",
   "execution_count": 3,
   "metadata": {
    "colab": {
     "base_uri": "https://localhost:8080/",
     "height": 2278
    },
    "colab_type": "code",
    "executionInfo": {
     "elapsed": 28551,
     "status": "ok",
     "timestamp": 1534079114696,
     "user": {
      "displayName": "Nishant Bhavsar",
      "photoUrl": "//lh6.googleusercontent.com/-Rn6jrAUH2RM/AAAAAAAAAAI/AAAAAAAAAA0/SbeLycr5PD8/s50-c-k-no/photo.jpg",
      "userId": "116097562907942520132"
     },
     "user_tz": -330
    },
    "id": "dESPGkGYB5O8",
    "outputId": "157d4a47-e5ef-4177-ef0d-c1837820adba"
   },
   "outputs": [
    {
     "name": "stdout",
     "output_type": "stream",
     "text": [
      "Preconfiguring packages ...\n",
      "Selecting previously unselected package cron.\n",
      "(Reading database ... 18408 files and directories currently installed.)\n",
      "Preparing to unpack .../00-cron_3.0pl1-128ubuntu5_amd64.deb ...\n",
      "Unpacking cron (3.0pl1-128ubuntu5) ...\n",
      "Selecting previously unselected package libapparmor1:amd64.\n",
      "Preparing to unpack .../01-libapparmor1_2.11.0-2ubuntu17.1_amd64.deb ...\n",
      "Unpacking libapparmor1:amd64 (2.11.0-2ubuntu17.1) ...\n",
      "Selecting previously unselected package libdbus-1-3:amd64.\n",
      "Preparing to unpack .../02-libdbus-1-3_1.10.22-1ubuntu1_amd64.deb ...\n",
      "Unpacking libdbus-1-3:amd64 (1.10.22-1ubuntu1) ...\n",
      "Selecting previously unselected package dbus.\n",
      "Preparing to unpack .../03-dbus_1.10.22-1ubuntu1_amd64.deb ...\n",
      "Unpacking dbus (1.10.22-1ubuntu1) ...\n",
      "Selecting previously unselected package dirmngr.\n",
      "Preparing to unpack .../04-dirmngr_2.1.15-1ubuntu8.1_amd64.deb ...\n",
      "Unpacking dirmngr (2.1.15-1ubuntu8.1) ...\n",
      "Selecting previously unselected package distro-info-data.\n",
      "Preparing to unpack .../05-distro-info-data_0.36ubuntu0.2_all.deb ...\n",
      "Unpacking distro-info-data (0.36ubuntu0.2) ...\n",
      "Selecting previously unselected package libkmod2:amd64.\n",
      "Preparing to unpack .../06-libkmod2_24-1ubuntu2_amd64.deb ...\n",
      "Unpacking libkmod2:amd64 (24-1ubuntu2) ...\n",
      "Selecting previously unselected package kmod.\n",
      "Preparing to unpack .../07-kmod_24-1ubuntu2_amd64.deb ...\n",
      "Unpacking kmod (24-1ubuntu2) ...\n",
      "Selecting previously unselected package lsb-release.\n",
      "Preparing to unpack .../08-lsb-release_9.20160110ubuntu5_all.deb ...\n",
      "Unpacking lsb-release (9.20160110ubuntu5) ...\n",
      "Selecting previously unselected package libgirepository-1.0-1:amd64.\n",
      "Preparing to unpack .../09-libgirepository-1.0-1_1.54.1-1_amd64.deb ...\n",
      "Unpacking libgirepository-1.0-1:amd64 (1.54.1-1) ...\n",
      "Selecting previously unselected package gir1.2-glib-2.0:amd64.\n",
      "Preparing to unpack .../10-gir1.2-glib-2.0_1.54.1-1_amd64.deb ...\n",
      "Unpacking gir1.2-glib-2.0:amd64 (1.54.1-1) ...\n",
      "Selecting previously unselected package iso-codes.\n",
      "Preparing to unpack .../11-iso-codes_3.75-1_all.deb ...\n",
      "Unpacking iso-codes (3.75-1) ...\n",
      "Selecting previously unselected package libdbus-glib-1-2:amd64.\n",
      "Preparing to unpack .../12-libdbus-glib-1-2_0.108-2_amd64.deb ...\n",
      "Unpacking libdbus-glib-1-2:amd64 (0.108-2) ...\n",
      "Selecting previously unselected package python-apt-common.\n",
      "Preparing to unpack .../13-python-apt-common_1.4.0~beta3build2_all.deb ...\n",
      "Unpacking python-apt-common (1.4.0~beta3build2) ...\n",
      "Selecting previously unselected package python3-apt.\n",
      "Preparing to unpack .../14-python3-apt_1.4.0~beta3build2_amd64.deb ...\n",
      "Unpacking python3-apt (1.4.0~beta3build2) ...\n",
      "Selecting previously unselected package python3-dbus.\n",
      "Preparing to unpack .../15-python3-dbus_1.2.4-1build3_amd64.deb ...\n",
      "Unpacking python3-dbus (1.2.4-1build3) ...\n",
      "Selecting previously unselected package python3-gi.\n",
      "Preparing to unpack .../16-python3-gi_3.24.1-2build1_amd64.deb ...\n",
      "Unpacking python3-gi (3.24.1-2build1) ...\n",
      "Selecting previously unselected package module-init-tools.\n",
      "Preparing to unpack .../17-module-init-tools_24-1ubuntu2_all.deb ...\n",
      "Unpacking module-init-tools (24-1ubuntu2) ...\n",
      "Selecting previously unselected package python-apt.\n",
      "Preparing to unpack .../18-python-apt_1.4.0~beta3build2_amd64.deb ...\n",
      "Unpacking python-apt (1.4.0~beta3build2) ...\n",
      "Selecting previously unselected package python-pycurl.\n",
      "Preparing to unpack .../19-python-pycurl_7.43.0-2build2_amd64.deb ...\n",
      "Unpacking python-pycurl (7.43.0-2build2) ...\n",
      "Selecting previously unselected package python-software-properties.\n",
      "Preparing to unpack .../20-python-software-properties_0.96.24.17_all.deb ...\n",
      "Unpacking python-software-properties (0.96.24.17) ...\n",
      "Selecting previously unselected package python3-software-properties.\n",
      "Preparing to unpack .../21-python3-software-properties_0.96.24.17_all.deb ...\n",
      "Unpacking python3-software-properties (0.96.24.17) ...\n",
      "Selecting previously unselected package software-properties-common.\n",
      "Preparing to unpack .../22-software-properties-common_0.96.24.17_all.deb ...\n",
      "Unpacking software-properties-common (0.96.24.17) ...\n",
      "Selecting previously unselected package unattended-upgrades.\n",
      "Preparing to unpack .../23-unattended-upgrades_0.98ubuntu1.1_all.deb ...\n",
      "Unpacking unattended-upgrades (0.98ubuntu1.1) ...\n",
      "Setting up python-apt-common (1.4.0~beta3build2) ...\n",
      "Setting up python3-apt (1.4.0~beta3build2) ...\n",
      "Setting up iso-codes (3.75-1) ...\n",
      "Setting up distro-info-data (0.36ubuntu0.2) ...\n",
      "Setting up python-pycurl (7.43.0-2build2) ...\n",
      "Setting up lsb-release (9.20160110ubuntu5) ...\n",
      "Setting up libgirepository-1.0-1:amd64 (1.54.1-1) ...\n",
      "Setting up libkmod2:amd64 (24-1ubuntu2) ...\n",
      "Setting up gir1.2-glib-2.0:amd64 (1.54.1-1) ...\n",
      "Processing triggers for libc-bin (2.26-0ubuntu2.1) ...\n",
      "Setting up libapparmor1:amd64 (2.11.0-2ubuntu17.1) ...\n",
      "Setting up unattended-upgrades (0.98ubuntu1.1) ...\n",
      "\n",
      "Creating config file /etc/apt/apt.conf.d/20auto-upgrades with new version\n",
      "\n",
      "Creating config file /etc/apt/apt.conf.d/50unattended-upgrades with new version\n",
      "invoke-rc.d: could not determine current runlevel\n",
      "invoke-rc.d: policy-rc.d denied execution of start.\n",
      "Setting up dirmngr (2.1.15-1ubuntu8.1) ...\n",
      "Setting up cron (3.0pl1-128ubuntu5) ...\n",
      "Adding group `crontab' (GID 102) ...\n",
      "Done.\n",
      "update-rc.d: warning: start and stop actions are no longer supported; falling back to defaults\n",
      "update-rc.d: warning: stop runlevel arguments (1) do not match cron Default-Stop values (none)\n",
      "invoke-rc.d: could not determine current runlevel\n",
      "invoke-rc.d: policy-rc.d denied execution of start.\n",
      "Setting up libdbus-1-3:amd64 (1.10.22-1ubuntu1) ...\n",
      "Setting up kmod (24-1ubuntu2) ...\n",
      "Setting up libdbus-glib-1-2:amd64 (0.108-2) ...\n",
      "Setting up python3-gi (3.24.1-2build1) ...\n",
      "Setting up module-init-tools (24-1ubuntu2) ...\n",
      "Setting up python3-software-properties (0.96.24.17) ...\n",
      "Setting up dbus (1.10.22-1ubuntu1) ...\n",
      "Setting up python-apt (1.4.0~beta3build2) ...\n",
      "Setting up python3-dbus (1.2.4-1build3) ...\n",
      "Setting up python-software-properties (0.96.24.17) ...\n",
      "Setting up software-properties-common (0.96.24.17) ...\n",
      "Processing triggers for libc-bin (2.26-0ubuntu2.1) ...\n",
      "Processing triggers for dbus (1.10.22-1ubuntu1) ...\n",
      "gpg: keybox '/tmp/tmpow5eww9k/pubring.gpg' created\n",
      "gpg: /tmp/tmpow5eww9k/trustdb.gpg: trustdb created\n",
      "gpg: key AD5F235DF639B041: public key \"Launchpad PPA for Alessandro Strada\" imported\n",
      "gpg: Total number processed: 1\n",
      "gpg:               imported: 1\n",
      "Warning: apt-key output should not be parsed (stdout is not a terminal)\n",
      "Selecting previously unselected package libfuse2:amd64.\n",
      "(Reading database ... 19816 files and directories currently installed.)\n",
      "Preparing to unpack .../libfuse2_2.9.7-1ubuntu1_amd64.deb ...\n",
      "Unpacking libfuse2:amd64 (2.9.7-1ubuntu1) ...\n",
      "Selecting previously unselected package fuse.\n",
      "Preparing to unpack .../fuse_2.9.7-1ubuntu1_amd64.deb ...\n",
      "Unpacking fuse (2.9.7-1ubuntu1) ...\n",
      "Selecting previously unselected package google-drive-ocamlfuse.\n",
      "Preparing to unpack .../google-drive-ocamlfuse_0.6.21-0ubuntu2_amd64.deb ...\n",
      "Unpacking google-drive-ocamlfuse (0.6.21-0ubuntu2) ...\n",
      "Setting up libfuse2:amd64 (2.9.7-1ubuntu1) ...\n",
      "Processing triggers for libc-bin (2.26-0ubuntu2.1) ...\n",
      "Setting up fuse (2.9.7-1ubuntu1) ...\n",
      "Setting up google-drive-ocamlfuse (0.6.21-0ubuntu2) ...\n"
     ]
    }
   ],
   "source": [
    "!apt-get install -y -qq software-properties-common python-software-properties module-init-tools\n",
    "!add-apt-repository -y ppa:alessandro-strada/ppa 2>&1 > /dev/null\n",
    "!apt-get update -qq 2>&1 > /dev/null\n",
    "\n",
    "!apt-get -y install -qq google-drive-ocamlfuse fuse"
   ]
  },
  {
   "cell_type": "code",
   "execution_count": 0,
   "metadata": {
    "colab": {},
    "colab_type": "code",
    "id": "Les8bkHDCGDu"
   },
   "outputs": [],
   "source": [
    "from google.colab import auth\n",
    "\n",
    "auth.authenticate_user()"
   ]
  },
  {
   "cell_type": "code",
   "execution_count": 0,
   "metadata": {
    "colab": {},
    "colab_type": "code",
    "id": "M926A3iuCfHG"
   },
   "outputs": [],
   "source": [
    "from oauth2client.client import GoogleCredentials\n",
    "\n",
    "creds = GoogleCredentials.get_application_default()"
   ]
  },
  {
   "cell_type": "code",
   "execution_count": 6,
   "metadata": {
    "colab": {
     "base_uri": "https://localhost:8080/",
     "height": 105
    },
    "colab_type": "code",
    "executionInfo": {
     "elapsed": 14850,
     "status": "ok",
     "timestamp": 1534079546343,
     "user": {
      "displayName": "Nishant Bhavsar",
      "photoUrl": "//lh6.googleusercontent.com/-Rn6jrAUH2RM/AAAAAAAAAAI/AAAAAAAAAA0/SbeLycr5PD8/s50-c-k-no/photo.jpg",
      "userId": "116097562907942520132"
     },
     "user_tz": -330
    },
    "id": "ODot-_x5Cn7F",
    "outputId": "37fd6a8f-4497-475b-e006-49d92175101d"
   },
   "outputs": [
    {
     "name": "stdout",
     "output_type": "stream",
     "text": [
      "Please, open the following URL in a web browser: https://accounts.google.com/o/oauth2/auth?client_id=32555940559.apps.googleusercontent.com&redirect_uri=urn%3Aietf%3Awg%3Aoauth%3A2.0%3Aoob&scope=https%3A%2F%2Fwww.googleapis.com%2Fauth%2Fdrive&response_type=code&access_type=offline&approval_prompt=force\r\n",
      "··········\n",
      "Please, open the following URL in a web browser: https://accounts.google.com/o/oauth2/auth?client_id=32555940559.apps.googleusercontent.com&redirect_uri=urn%3Aietf%3Awg%3Aoauth%3A2.0%3Aoob&scope=https%3A%2F%2Fwww.googleapis.com%2Fauth%2Fdrive&response_type=code&access_type=offline&approval_prompt=force\n",
      "Please enter the verification code: Access token retrieved correctly.\n"
     ]
    }
   ],
   "source": [
    "import getpass\n",
    "\n",
    "!google-drive-ocamlfuse -headless -id={creds.client_id} -secret={creds.client_secret} < /dev/null 2>&1 | grep URL\n",
    "vcode = getpass.getpass()\n",
    "!echo {vcode} | google-drive-ocamlfuse -headless -id={creds.client_id} -secret={creds.client_secret}"
   ]
  },
  {
   "cell_type": "code",
   "execution_count": 0,
   "metadata": {
    "colab": {},
    "colab_type": "code",
    "id": "l-c65ho4Cp23"
   },
   "outputs": [],
   "source": [
    "!mkdir -p drive\n",
    "!google-drive-ocamlfuse drive"
   ]
  },
  {
   "cell_type": "code",
   "execution_count": 0,
   "metadata": {
    "colab": {},
    "colab_type": "code",
    "id": "tVOkwOEnCx0W"
   },
   "outputs": [],
   "source": [
    "import os"
   ]
  },
  {
   "cell_type": "code",
   "execution_count": 0,
   "metadata": {
    "colab": {},
    "colab_type": "code",
    "id": "L7V95VT8C0XN"
   },
   "outputs": [],
   "source": [
    "os.mkdir('AV')"
   ]
  },
  {
   "cell_type": "code",
   "execution_count": 10,
   "metadata": {
    "colab": {
     "base_uri": "https://localhost:8080/",
     "height": 204
    },
    "colab_type": "code",
    "executionInfo": {
     "elapsed": 1046,
     "status": "ok",
     "timestamp": 1534079558188,
     "user": {
      "displayName": "Nishant Bhavsar",
      "photoUrl": "//lh6.googleusercontent.com/-Rn6jrAUH2RM/AAAAAAAAAAI/AAAAAAAAAA0/SbeLycr5PD8/s50-c-k-no/photo.jpg",
      "userId": "116097562907942520132"
     },
     "user_tz": -330
    },
    "id": "GJnHPBoEC3Vd",
    "outputId": "76a07074-96e6-4b6f-c179-161ead6a7a52"
   },
   "outputs": [
    {
     "data": {
      "text/plain": [
       "['datalab',\n",
       " 'drive',\n",
       " '.gdfuse',\n",
       " '.local',\n",
       " '.cache',\n",
       " '.nv',\n",
       " '.ipython',\n",
       " '.keras',\n",
       " '.forever',\n",
       " '.config',\n",
       " 'AV']"
      ]
     },
     "execution_count": 10,
     "metadata": {
      "tags": []
     },
     "output_type": "execute_result"
    }
   ],
   "source": [
    "os.listdir()"
   ]
  },
  {
   "cell_type": "code",
   "execution_count": 0,
   "metadata": {
    "colab": {},
    "colab_type": "code",
    "id": "rAbbvIa_C7ss"
   },
   "outputs": [],
   "source": [
    "os.chdir('AV')"
   ]
  },
  {
   "cell_type": "code",
   "execution_count": 0,
   "metadata": {
    "colab": {},
    "colab_type": "code",
    "id": "dDTbmbRmDFuk"
   },
   "outputs": [],
   "source": [
    "os.mkdir('input')"
   ]
  },
  {
   "cell_type": "code",
   "execution_count": 0,
   "metadata": {
    "colab": {},
    "colab_type": "code",
    "id": "Xd_A2-cQDIpq"
   },
   "outputs": [],
   "source": [
    "os.mkdir('code')"
   ]
  },
  {
   "cell_type": "code",
   "execution_count": 0,
   "metadata": {
    "colab": {},
    "colab_type": "code",
    "id": "23mYG1mHDKtP"
   },
   "outputs": [],
   "source": [
    "os.mkdir('submissions')"
   ]
  },
  {
   "cell_type": "code",
   "execution_count": 15,
   "metadata": {
    "colab": {
     "base_uri": "https://localhost:8080/",
     "height": 34
    },
    "colab_type": "code",
    "executionInfo": {
     "elapsed": 1245,
     "status": "ok",
     "timestamp": 1534079577171,
     "user": {
      "displayName": "Nishant Bhavsar",
      "photoUrl": "//lh6.googleusercontent.com/-Rn6jrAUH2RM/AAAAAAAAAAI/AAAAAAAAAA0/SbeLycr5PD8/s50-c-k-no/photo.jpg",
      "userId": "116097562907942520132"
     },
     "user_tz": -330
    },
    "id": "nnBWuILWDN-Z",
    "outputId": "246a35d9-e854-47ee-b17b-272a19bae968"
   },
   "outputs": [
    {
     "data": {
      "text/plain": [
       "['submissions', 'input', 'code']"
      ]
     },
     "execution_count": 15,
     "metadata": {
      "tags": []
     },
     "output_type": "execute_result"
    }
   ],
   "source": [
    "os.listdir()"
   ]
  },
  {
   "cell_type": "code",
   "execution_count": 0,
   "metadata": {
    "colab": {},
    "colab_type": "code",
    "id": "KpaCmIDbDPJx"
   },
   "outputs": [],
   "source": [
    "os.chdir('input')"
   ]
  },
  {
   "cell_type": "markdown",
   "metadata": {
    "colab_type": "text",
    "id": "wc1Zl6CdOe0E"
   },
   "source": [
    "## Download data Original. do not run this."
   ]
  },
  {
   "cell_type": "code",
   "execution_count": 28,
   "metadata": {
    "colab": {
     "base_uri": "https://localhost:8080/",
     "height": 326
    },
    "colab_type": "code",
    "executionInfo": {
     "elapsed": 12835,
     "status": "ok",
     "timestamp": 1533960587048,
     "user": {
      "displayName": "Nishant Bhavsar",
      "photoUrl": "//lh6.googleusercontent.com/-Rn6jrAUH2RM/AAAAAAAAAAI/AAAAAAAAAA0/SbeLycr5PD8/s50-c-k-no/photo.jpg",
      "userId": "116097562907942520132"
     },
     "user_tz": -330
    },
    "id": "R3ygaKP3KLyu",
    "outputId": "024f3462-a25a-4d61-91a9-9b704485cea2"
   },
   "outputs": [
    {
     "name": "stdout",
     "output_type": "stream",
     "text": [
      "--2018-08-11 04:09:35--  https://drive.google.com/uc?export=download&confirm=nCRb&id=1LAiELvs_FQhZuldX7JPMutfX00NzhonF\r\n",
      "Resolving drive.google.com (drive.google.com)... 74.125.124.101, 74.125.124.138, 74.125.124.113, ...\r\n",
      "Connecting to drive.google.com (drive.google.com)|74.125.124.101|:443... connected.\n",
      "HTTP request sent, awaiting response... 302 Moved Temporarily\n",
      "Location: https://doc-10-2g-docs.googleusercontent.com/docs/securesc/ha0ro937gcuc7l7deffksulhg5h7mbp1/8ub765pih66hf75hkng0kofvlsta9ii0/1533960000000/15249538500823033517/*/1LAiELvs_FQhZuldX7JPMutfX00NzhonF?e=download [following]\n",
      "Warning: wildcards not supported in HTTP.\n",
      "--2018-08-11 04:09:35--  https://doc-10-2g-docs.googleusercontent.com/docs/securesc/ha0ro937gcuc7l7deffksulhg5h7mbp1/8ub765pih66hf75hkng0kofvlsta9ii0/1533960000000/15249538500823033517/*/1LAiELvs_FQhZuldX7JPMutfX00NzhonF?e=download\n",
      "Resolving doc-10-2g-docs.googleusercontent.com (doc-10-2g-docs.googleusercontent.com)... 108.177.112.132, 2607:f8b0:4001:c12::84\n",
      "Connecting to doc-10-2g-docs.googleusercontent.com (doc-10-2g-docs.googleusercontent.com)|108.177.112.132|:443... connected.\n",
      "HTTP request sent, awaiting response... 200 OK\n",
      "Length: unspecified [application/x-zip-compressed]\n",
      "Saving to: ‘train.zip’\n",
      "\n",
      "train.zip               [          <=>       ]   1.25G   144MB/s    in 8.8s    \n",
      "\n",
      "2018-08-11 04:09:44 (145 MB/s) - ‘train.zip’ saved [1337844374]\n",
      "\n"
     ]
    }
   ],
   "source": [
    "!wget --load-cookies /tmp/cookies.txt \"https://drive.google.com/uc?export=download&confirm=$(wget --quiet --save-cookies /tmp/cookies.txt --keep-session-cookies --no-check-certificate 'https://drive.google.com/uc?id=1LAiELvs_FQhZuldX7JPMutfX00NzhonF&export=download' -O- | sed -rn 's/.*confirm=([0-9A-Za-z_]+).*/\\1\\n/p')&id=1LAiELvs_FQhZuldX7JPMutfX00NzhonF\" -O train.zip && rm -rf /tmp/cookies.txt"
   ]
  },
  {
   "cell_type": "code",
   "execution_count": 29,
   "metadata": {
    "colab": {
     "base_uri": "https://localhost:8080/",
     "height": 34
    },
    "colab_type": "code",
    "executionInfo": {
     "elapsed": 767,
     "status": "ok",
     "timestamp": 1533960640623,
     "user": {
      "displayName": "Nishant Bhavsar",
      "photoUrl": "//lh6.googleusercontent.com/-Rn6jrAUH2RM/AAAAAAAAAAI/AAAAAAAAAA0/SbeLycr5PD8/s50-c-k-no/photo.jpg",
      "userId": "116097562907942520132"
     },
     "user_tz": -330
    },
    "id": "xfLs1KYWLNR8",
    "outputId": "4003e5c8-e24a-43fb-f732-e295ed907267"
   },
   "outputs": [
    {
     "data": {
      "text/plain": [
       "['train.zip']"
      ]
     },
     "execution_count": 29,
     "metadata": {
      "tags": []
     },
     "output_type": "execute_result"
    }
   ],
   "source": [
    "os.listdir()"
   ]
  },
  {
   "cell_type": "code",
   "execution_count": 30,
   "metadata": {
    "colab": {
     "base_uri": "https://localhost:8080/",
     "height": 34
    },
    "colab_type": "code",
    "executionInfo": {
     "elapsed": 1712,
     "status": "ok",
     "timestamp": 1533960651415,
     "user": {
      "displayName": "Nishant Bhavsar",
      "photoUrl": "//lh6.googleusercontent.com/-Rn6jrAUH2RM/AAAAAAAAAAI/AAAAAAAAAA0/SbeLycr5PD8/s50-c-k-no/photo.jpg",
      "userId": "116097562907942520132"
     },
     "user_tz": -330
    },
    "id": "TAW35QBJLdTq",
    "outputId": "70695367-13d0-4ed4-ce83-0678df75ed2f"
   },
   "outputs": [
    {
     "name": "stdout",
     "output_type": "stream",
     "text": [
      "1.3G\ttrain.zip\r\n"
     ]
    }
   ],
   "source": [
    "!du -h train.zip"
   ]
  },
  {
   "cell_type": "code",
   "execution_count": 37,
   "metadata": {
    "colab": {
     "base_uri": "https://localhost:8080/",
     "height": 204
    },
    "colab_type": "code",
    "executionInfo": {
     "elapsed": 23912,
     "status": "ok",
     "timestamp": 1533960952379,
     "user": {
      "displayName": "Nishant Bhavsar",
      "photoUrl": "//lh6.googleusercontent.com/-Rn6jrAUH2RM/AAAAAAAAAAI/AAAAAAAAAA0/SbeLycr5PD8/s50-c-k-no/photo.jpg",
      "userId": "116097562907942520132"
     },
     "user_tz": -330
    },
    "id": "qlGIQojNLftf",
    "outputId": "b6f53d43-7cd7-437d-d180-ac8537d907e3"
   },
   "outputs": [
    {
     "name": "stdout",
     "output_type": "stream",
     "text": [
      "--2018-08-11 04:15:29--  https://datahack-prod.s3.amazonaws.com/test_file/test_nvPHrOx.csv\n",
      "Resolving datahack-prod.s3.amazonaws.com (datahack-prod.s3.amazonaws.com)... 52.219.64.32\n",
      "Connecting to datahack-prod.s3.amazonaws.com (datahack-prod.s3.amazonaws.com)|52.219.64.32|:443... connected.\n",
      "HTTP request sent, awaiting response... 200 OK\n",
      "Length: 2549831 (2.4M) [application/vnd.ms-excel]\n",
      "Saving to: ‘test_nvPHrOx.csv’\n",
      "\n",
      "test_nvPHrOx.csv    100%[===================>]   2.43M   294KB/s    in 21s     \n",
      "\n",
      "2018-08-11 04:15:51 (118 KB/s) - ‘test_nvPHrOx.csv’ saved [2549831/2549831]\n",
      "\n"
     ]
    }
   ],
   "source": [
    "!wget 'https://datahack-prod.s3.amazonaws.com/test_file/test_nvPHrOx.csv'"
   ]
  },
  {
   "cell_type": "code",
   "execution_count": 38,
   "metadata": {
    "colab": {
     "base_uri": "https://localhost:8080/",
     "height": 34
    },
    "colab_type": "code",
    "executionInfo": {
     "elapsed": 817,
     "status": "ok",
     "timestamp": 1533960962759,
     "user": {
      "displayName": "Nishant Bhavsar",
      "photoUrl": "//lh6.googleusercontent.com/-Rn6jrAUH2RM/AAAAAAAAAAI/AAAAAAAAAA0/SbeLycr5PD8/s50-c-k-no/photo.jpg",
      "userId": "116097562907942520132"
     },
     "user_tz": -330
    },
    "id": "mVVikbyfL8Kc",
    "outputId": "38945599-d888-4c40-cfbc-23e826640dee"
   },
   "outputs": [
    {
     "data": {
      "text/plain": [
       "['train.zip', 'test_nvPHrOx.csv']"
      ]
     },
     "execution_count": 38,
     "metadata": {
      "tags": []
     },
     "output_type": "execute_result"
    }
   ],
   "source": [
    "os.listdir()"
   ]
  },
  {
   "cell_type": "code",
   "execution_count": 0,
   "metadata": {
    "colab": {},
    "colab_type": "code",
    "id": "26dFZw9-NJZ1"
   },
   "outputs": [],
   "source": [
    "!mv test_nvPHrOx.csv test.csv"
   ]
  },
  {
   "cell_type": "code",
   "execution_count": 41,
   "metadata": {
    "colab": {
     "base_uri": "https://localhost:8080/",
     "height": 34
    },
    "colab_type": "code",
    "executionInfo": {
     "elapsed": 848,
     "status": "ok",
     "timestamp": 1533961115795,
     "user": {
      "displayName": "Nishant Bhavsar",
      "photoUrl": "//lh6.googleusercontent.com/-Rn6jrAUH2RM/AAAAAAAAAAI/AAAAAAAAAA0/SbeLycr5PD8/s50-c-k-no/photo.jpg",
      "userId": "116097562907942520132"
     },
     "user_tz": -330
    },
    "id": "Nk6_JEIRNPcT",
    "outputId": "07840161-9835-4d68-db9e-98c20ed56035"
   },
   "outputs": [
    {
     "data": {
      "text/plain": [
       "['test.csv', 'train.zip']"
      ]
     },
     "execution_count": 41,
     "metadata": {
      "tags": []
     },
     "output_type": "execute_result"
    }
   ],
   "source": [
    "os.listdir()"
   ]
  },
  {
   "cell_type": "code",
   "execution_count": 42,
   "metadata": {
    "colab": {
     "base_uri": "https://localhost:8080/",
     "height": 34
    },
    "colab_type": "code",
    "executionInfo": {
     "elapsed": 1740,
     "status": "ok",
     "timestamp": 1533961126903,
     "user": {
      "displayName": "Nishant Bhavsar",
      "photoUrl": "//lh6.googleusercontent.com/-Rn6jrAUH2RM/AAAAAAAAAAI/AAAAAAAAAA0/SbeLycr5PD8/s50-c-k-no/photo.jpg",
      "userId": "116097562907942520132"
     },
     "user_tz": -330
    },
    "id": "D8pqMqS4MCv5",
    "outputId": "56f97012-0172-47ef-c1ce-c54b0d3c7de0"
   },
   "outputs": [
    {
     "name": "stdout",
     "output_type": "stream",
     "text": [
      "2.5M\ttest.csv\r\n"
     ]
    }
   ],
   "source": [
    "!du -h 'test.csv'"
   ]
  },
  {
   "cell_type": "code",
   "execution_count": 44,
   "metadata": {
    "colab": {
     "base_uri": "https://localhost:8080/",
     "height": 204
    },
    "colab_type": "code",
    "executionInfo": {
     "elapsed": 9008,
     "status": "ok",
     "timestamp": 1533961227513,
     "user": {
      "displayName": "Nishant Bhavsar",
      "photoUrl": "//lh6.googleusercontent.com/-Rn6jrAUH2RM/AAAAAAAAAAI/AAAAAAAAAA0/SbeLycr5PD8/s50-c-k-no/photo.jpg",
      "userId": "116097562907942520132"
     },
     "user_tz": -330
    },
    "id": "cGuOn5myMSmt",
    "outputId": "50a4c040-efba-4bb8-85bd-566f31adf516"
   },
   "outputs": [
    {
     "name": "stdout",
     "output_type": "stream",
     "text": [
      "--2018-08-11 04:20:19--  https://datahack-prod.s3.amazonaws.com/sample_submission/sample_submission_poy1UIu.csv\n",
      "Resolving datahack-prod.s3.amazonaws.com (datahack-prod.s3.amazonaws.com)... 52.219.66.44\n",
      "Connecting to datahack-prod.s3.amazonaws.com (datahack-prod.s3.amazonaws.com)|52.219.66.44|:443... connected.\n",
      "HTTP request sent, awaiting response... 200 OK\n",
      "Length: 305785 (299K) [application/vnd.ms-excel]\n",
      "Saving to: ‘sample_submission_poy1UIu.csv’\n",
      "\n",
      "sample_submission_p 100%[===================>] 298.62K  46.8KB/s    in 6.4s    \n",
      "\n",
      "2018-08-11 04:20:27 (46.8 KB/s) - ‘sample_submission_poy1UIu.csv’ saved [305785/305785]\n",
      "\n"
     ]
    }
   ],
   "source": [
    "!wget 'https://datahack-prod.s3.amazonaws.com/sample_submission/sample_submission_poy1UIu.csv'"
   ]
  },
  {
   "cell_type": "code",
   "execution_count": 45,
   "metadata": {
    "colab": {
     "base_uri": "https://localhost:8080/",
     "height": 34
    },
    "colab_type": "code",
    "executionInfo": {
     "elapsed": 757,
     "status": "ok",
     "timestamp": 1533961235326,
     "user": {
      "displayName": "Nishant Bhavsar",
      "photoUrl": "//lh6.googleusercontent.com/-Rn6jrAUH2RM/AAAAAAAAAAI/AAAAAAAAAA0/SbeLycr5PD8/s50-c-k-no/photo.jpg",
      "userId": "116097562907942520132"
     },
     "user_tz": -330
    },
    "id": "IottntHJNqlF",
    "outputId": "0f8281a7-264b-4ad1-a209-dedc97816595"
   },
   "outputs": [
    {
     "data": {
      "text/plain": [
       "['test.csv', 'train.zip', 'sample_submission_poy1UIu.csv']"
      ]
     },
     "execution_count": 45,
     "metadata": {
      "tags": []
     },
     "output_type": "execute_result"
    }
   ],
   "source": [
    "os.listdir()"
   ]
  },
  {
   "cell_type": "code",
   "execution_count": 0,
   "metadata": {
    "colab": {},
    "colab_type": "code",
    "id": "FY3A8t4wNuf6"
   },
   "outputs": [],
   "source": [
    "!mv sample_submission_poy1UIu.csv sample_submission.csv"
   ]
  },
  {
   "cell_type": "code",
   "execution_count": 47,
   "metadata": {
    "colab": {
     "base_uri": "https://localhost:8080/",
     "height": 34
    },
    "colab_type": "code",
    "executionInfo": {
     "elapsed": 807,
     "status": "ok",
     "timestamp": 1533961277102,
     "user": {
      "displayName": "Nishant Bhavsar",
      "photoUrl": "//lh6.googleusercontent.com/-Rn6jrAUH2RM/AAAAAAAAAAI/AAAAAAAAAA0/SbeLycr5PD8/s50-c-k-no/photo.jpg",
      "userId": "116097562907942520132"
     },
     "user_tz": -330
    },
    "id": "eLylXtFPN2s1",
    "outputId": "03b643d6-12e7-4370-edb2-cb38eaf51f7c"
   },
   "outputs": [
    {
     "data": {
      "text/plain": [
       "['test.csv', 'train.zip', 'sample_submission.csv']"
      ]
     },
     "execution_count": 47,
     "metadata": {
      "tags": []
     },
     "output_type": "execute_result"
    }
   ],
   "source": [
    "os.listdir()"
   ]
  },
  {
   "cell_type": "code",
   "execution_count": 48,
   "metadata": {
    "colab": {
     "base_uri": "https://localhost:8080/",
     "height": 68
    },
    "colab_type": "code",
    "executionInfo": {
     "elapsed": 68128,
     "status": "ok",
     "timestamp": 1533961535976,
     "user": {
      "displayName": "Nishant Bhavsar",
      "photoUrl": "//lh6.googleusercontent.com/-Rn6jrAUH2RM/AAAAAAAAAAI/AAAAAAAAAA0/SbeLycr5PD8/s50-c-k-no/photo.jpg",
      "userId": "116097562907942520132"
     },
     "user_tz": -330
    },
    "id": "7MgY4EVYN4sB",
    "outputId": "b213697f-e135-49b4-961e-d9b7dc8e112c"
   },
   "outputs": [
    {
     "name": "stdout",
     "output_type": "stream",
     "text": [
      "Archive:  train.zip\n",
      "  inflating: train.csv               \n",
      "  inflating: html_data.csv           \n"
     ]
    }
   ],
   "source": [
    "!unzip train.zip"
   ]
  },
  {
   "cell_type": "code",
   "execution_count": 49,
   "metadata": {
    "colab": {
     "base_uri": "https://localhost:8080/",
     "height": 102
    },
    "colab_type": "code",
    "executionInfo": {
     "elapsed": 988,
     "status": "ok",
     "timestamp": 1533961575305,
     "user": {
      "displayName": "Nishant Bhavsar",
      "photoUrl": "//lh6.googleusercontent.com/-Rn6jrAUH2RM/AAAAAAAAAAI/AAAAAAAAAA0/SbeLycr5PD8/s50-c-k-no/photo.jpg",
      "userId": "116097562907942520132"
     },
     "user_tz": -330
    },
    "id": "WJ1DGiAnOnc3",
    "outputId": "35bb7ae6-de3c-40f9-a118-bed97761383d"
   },
   "outputs": [
    {
     "data": {
      "text/plain": [
       "['test.csv',\n",
       " 'train.csv',\n",
       " 'train.zip',\n",
       " 'sample_submission.csv',\n",
       " 'html_data.csv']"
      ]
     },
     "execution_count": 49,
     "metadata": {
      "tags": []
     },
     "output_type": "execute_result"
    }
   ],
   "source": [
    "os.listdir()"
   ]
  },
  {
   "cell_type": "code",
   "execution_count": 52,
   "metadata": {
    "colab": {
     "base_uri": "https://localhost:8080/",
     "height": 34
    },
    "colab_type": "code",
    "executionInfo": {
     "elapsed": 1746,
     "status": "ok",
     "timestamp": 1533961673693,
     "user": {
      "displayName": "Nishant Bhavsar",
      "photoUrl": "//lh6.googleusercontent.com/-Rn6jrAUH2RM/AAAAAAAAAAI/AAAAAAAAAA0/SbeLycr5PD8/s50-c-k-no/photo.jpg",
      "userId": "116097562907942520132"
     },
     "user_tz": -330
    },
    "id": "kEqQ_GZEPBce",
    "outputId": "ba41a529-196d-45a6-df89-78153496b193"
   },
   "outputs": [
    {
     "name": "stdout",
     "output_type": "stream",
     "text": [
      "5.6M\ttrain.csv\r\n"
     ]
    }
   ],
   "source": [
    "!du -h train.csv"
   ]
  },
  {
   "cell_type": "code",
   "execution_count": 53,
   "metadata": {
    "colab": {
     "base_uri": "https://localhost:8080/",
     "height": 34
    },
    "colab_type": "code",
    "executionInfo": {
     "elapsed": 1786,
     "status": "ok",
     "timestamp": 1533961684501,
     "user": {
      "displayName": "Nishant Bhavsar",
      "photoUrl": "//lh6.googleusercontent.com/-Rn6jrAUH2RM/AAAAAAAAAAI/AAAAAAAAAA0/SbeLycr5PD8/s50-c-k-no/photo.jpg",
      "userId": "116097562907942520132"
     },
     "user_tz": -330
    },
    "id": "KTWckEUOPJqa",
    "outputId": "a6aa6794-39b1-4f6e-fc83-b109a0428f7e"
   },
   "outputs": [
    {
     "name": "stdout",
     "output_type": "stream",
     "text": [
      "2.5M\ttest.csv\r\n"
     ]
    }
   ],
   "source": [
    "!du -h test.csv"
   ]
  },
  {
   "cell_type": "code",
   "execution_count": 54,
   "metadata": {
    "colab": {
     "base_uri": "https://localhost:8080/",
     "height": 34
    },
    "colab_type": "code",
    "executionInfo": {
     "elapsed": 1701,
     "status": "ok",
     "timestamp": 1533961699615,
     "user": {
      "displayName": "Nishant Bhavsar",
      "photoUrl": "//lh6.googleusercontent.com/-Rn6jrAUH2RM/AAAAAAAAAAI/AAAAAAAAAA0/SbeLycr5PD8/s50-c-k-no/photo.jpg",
      "userId": "116097562907942520132"
     },
     "user_tz": -330
    },
    "id": "HbYojFeRPb6U",
    "outputId": "b47cedcf-4660-49dc-a010-e5f9307a21c6"
   },
   "outputs": [
    {
     "name": "stdout",
     "output_type": "stream",
     "text": [
      "6.8G\thtml_data.csv\r\n"
     ]
    }
   ],
   "source": [
    "!du -h html_data.csv"
   ]
  },
  {
   "cell_type": "code",
   "execution_count": 55,
   "metadata": {
    "colab": {
     "base_uri": "https://localhost:8080/",
     "height": 34
    },
    "colab_type": "code",
    "executionInfo": {
     "elapsed": 1745,
     "status": "ok",
     "timestamp": 1533961712737,
     "user": {
      "displayName": "Nishant Bhavsar",
      "photoUrl": "//lh6.googleusercontent.com/-Rn6jrAUH2RM/AAAAAAAAAAI/AAAAAAAAAA0/SbeLycr5PD8/s50-c-k-no/photo.jpg",
      "userId": "116097562907942520132"
     },
     "user_tz": -330
    },
    "id": "VxWRDJAjPfnp",
    "outputId": "3f245546-1a43-49f1-a0cb-703d507cbc72"
   },
   "outputs": [
    {
     "name": "stdout",
     "output_type": "stream",
     "text": [
      "304K\tsample_submission.csv\r\n"
     ]
    }
   ],
   "source": [
    "!du -h sample_submission.csv"
   ]
  },
  {
   "cell_type": "code",
   "execution_count": 0,
   "metadata": {
    "colab": {},
    "colab_type": "code",
    "id": "RPmAZSq0Piz4"
   },
   "outputs": [],
   "source": [
    "!rm train.zip"
   ]
  },
  {
   "cell_type": "code",
   "execution_count": 0,
   "metadata": {
    "colab": {},
    "colab_type": "code",
    "id": "h2YmtwD4Pvlu"
   },
   "outputs": [],
   "source": [
    "os.chdir('..')"
   ]
  },
  {
   "cell_type": "code",
   "execution_count": 58,
   "metadata": {
    "colab": {
     "base_uri": "https://localhost:8080/",
     "height": 34
    },
    "colab_type": "code",
    "executionInfo": {
     "elapsed": 777,
     "status": "ok",
     "timestamp": 1533961783725,
     "user": {
      "displayName": "Nishant Bhavsar",
      "photoUrl": "//lh6.googleusercontent.com/-Rn6jrAUH2RM/AAAAAAAAAAI/AAAAAAAAAA0/SbeLycr5PD8/s50-c-k-no/photo.jpg",
      "userId": "116097562907942520132"
     },
     "user_tz": -330
    },
    "id": "fzQx4GZrPy8H",
    "outputId": "ad402b24-dbb0-4539-e320-1e1e454d8282"
   },
   "outputs": [
    {
     "data": {
      "text/plain": [
       "['input', 'code', 'submissions']"
      ]
     },
     "execution_count": 58,
     "metadata": {
      "tags": []
     },
     "output_type": "execute_result"
    }
   ],
   "source": [
    "os.listdir()"
   ]
  },
  {
   "cell_type": "code",
   "execution_count": 60,
   "metadata": {
    "colab": {
     "base_uri": "https://localhost:8080/",
     "height": 34
    },
    "colab_type": "code",
    "executionInfo": {
     "elapsed": 1859,
     "status": "ok",
     "timestamp": 1533961807256,
     "user": {
      "displayName": "Nishant Bhavsar",
      "photoUrl": "//lh6.googleusercontent.com/-Rn6jrAUH2RM/AAAAAAAAAAI/AAAAAAAAAA0/SbeLycr5PD8/s50-c-k-no/photo.jpg",
      "userId": "116097562907942520132"
     },
     "user_tz": -330
    },
    "id": "FEIkE-lnP0YP",
    "outputId": "afb99f4a-41e3-4079-f9e9-7cda4cb4e59e"
   },
   "outputs": [
    {
     "name": "stdout",
     "output_type": "stream",
     "text": [
      "6.8G\tinput\r\n"
     ]
    }
   ],
   "source": [
    "!du -sh input"
   ]
  },
  {
   "cell_type": "code",
   "execution_count": 0,
   "metadata": {
    "colab": {},
    "colab_type": "code",
    "id": "bHURM3NOP4DT"
   },
   "outputs": [],
   "source": [
    "os.chdir('code')"
   ]
  },
  {
   "cell_type": "markdown",
   "metadata": {
    "colab_type": "text",
    "id": "KmEfyddBRV3R"
   },
   "source": [
    "## Download processed data from drive"
   ]
  },
  {
   "cell_type": "code",
   "execution_count": 0,
   "metadata": {
    "colab": {},
    "colab_type": "code",
    "id": "SpkuqgmYRbz-"
   },
   "outputs": [],
   "source": [
    "!cp ../../drive/ColabNotebooks/AV_innoplexus_html/train_cont.zip ."
   ]
  },
  {
   "cell_type": "code",
   "execution_count": 20,
   "metadata": {
    "colab": {
     "base_uri": "https://localhost:8080/",
     "height": 34
    },
    "colab_type": "code",
    "executionInfo": {
     "elapsed": 1760,
     "status": "ok",
     "timestamp": 1534079857119,
     "user": {
      "displayName": "Nishant Bhavsar",
      "photoUrl": "//lh6.googleusercontent.com/-Rn6jrAUH2RM/AAAAAAAAAAI/AAAAAAAAAA0/SbeLycr5PD8/s50-c-k-no/photo.jpg",
      "userId": "116097562907942520132"
     },
     "user_tz": -330
    },
    "id": "IapWpqJfRbsO",
    "outputId": "c44087a1-062f-471f-84c1-197225b93c50"
   },
   "outputs": [
    {
     "data": {
      "text/plain": [
       "['train_cont.zip']"
      ]
     },
     "execution_count": 20,
     "metadata": {
      "tags": []
     },
     "output_type": "execute_result"
    }
   ],
   "source": [
    "os.listdir()"
   ]
  },
  {
   "cell_type": "code",
   "execution_count": 21,
   "metadata": {
    "colab": {
     "base_uri": "https://localhost:8080/",
     "height": 51
    },
    "colab_type": "code",
    "executionInfo": {
     "elapsed": 5908,
     "status": "ok",
     "timestamp": 1534079882220,
     "user": {
      "displayName": "Nishant Bhavsar",
      "photoUrl": "//lh6.googleusercontent.com/-Rn6jrAUH2RM/AAAAAAAAAAI/AAAAAAAAAA0/SbeLycr5PD8/s50-c-k-no/photo.jpg",
      "userId": "116097562907942520132"
     },
     "user_tz": -330
    },
    "id": "CTfrLXKDRbl9",
    "outputId": "378bde4b-3d06-4e86-c804-52de160c13c0"
   },
   "outputs": [
    {
     "name": "stdout",
     "output_type": "stream",
     "text": [
      "Archive:  train_cont.zip\n",
      "  inflating: train_cont.csv          \n"
     ]
    }
   ],
   "source": [
    "!unzip train_cont.zip"
   ]
  },
  {
   "cell_type": "code",
   "execution_count": 22,
   "metadata": {
    "colab": {
     "base_uri": "https://localhost:8080/",
     "height": 34
    },
    "colab_type": "code",
    "executionInfo": {
     "elapsed": 1065,
     "status": "ok",
     "timestamp": 1534079888293,
     "user": {
      "displayName": "Nishant Bhavsar",
      "photoUrl": "//lh6.googleusercontent.com/-Rn6jrAUH2RM/AAAAAAAAAAI/AAAAAAAAAA0/SbeLycr5PD8/s50-c-k-no/photo.jpg",
      "userId": "116097562907942520132"
     },
     "user_tz": -330
    },
    "id": "Ebr7VbpGRbck",
    "outputId": "72d8cc6a-a3e4-4102-e420-6d48b5c77470"
   },
   "outputs": [
    {
     "data": {
      "text/plain": [
       "['train_cont.zip', 'train_cont.csv']"
      ]
     },
     "execution_count": 22,
     "metadata": {
      "tags": []
     },
     "output_type": "execute_result"
    }
   ],
   "source": [
    "os.listdir()"
   ]
  },
  {
   "cell_type": "code",
   "execution_count": 0,
   "metadata": {
    "colab": {},
    "colab_type": "code",
    "id": "8aNL61WORbCy"
   },
   "outputs": [],
   "source": [
    "!cp ../../drive/ColabNotebooks/AV_innoplexus_html/test_cont.zip ."
   ]
  },
  {
   "cell_type": "code",
   "execution_count": 24,
   "metadata": {
    "colab": {
     "base_uri": "https://localhost:8080/",
     "height": 34
    },
    "colab_type": "code",
    "executionInfo": {
     "elapsed": 1005,
     "status": "ok",
     "timestamp": 1534080008917,
     "user": {
      "displayName": "Nishant Bhavsar",
      "photoUrl": "//lh6.googleusercontent.com/-Rn6jrAUH2RM/AAAAAAAAAAI/AAAAAAAAAA0/SbeLycr5PD8/s50-c-k-no/photo.jpg",
      "userId": "116097562907942520132"
     },
     "user_tz": -330
    },
    "id": "vzN734uUSvPJ",
    "outputId": "a2e2101e-853f-4131-c88c-c5d3be625609"
   },
   "outputs": [
    {
     "data": {
      "text/plain": [
       "['train_cont.zip', 'test_cont.zip', 'train_cont.csv']"
      ]
     },
     "execution_count": 24,
     "metadata": {
      "tags": []
     },
     "output_type": "execute_result"
    }
   ],
   "source": [
    "os.listdir()"
   ]
  },
  {
   "cell_type": "code",
   "execution_count": 25,
   "metadata": {
    "colab": {
     "base_uri": "https://localhost:8080/",
     "height": 51
    },
    "colab_type": "code",
    "executionInfo": {
     "elapsed": 4059,
     "status": "ok",
     "timestamp": 1534080022141,
     "user": {
      "displayName": "Nishant Bhavsar",
      "photoUrl": "//lh6.googleusercontent.com/-Rn6jrAUH2RM/AAAAAAAAAAI/AAAAAAAAAA0/SbeLycr5PD8/s50-c-k-no/photo.jpg",
      "userId": "116097562907942520132"
     },
     "user_tz": -330
    },
    "id": "WwxVyMb_SvGi",
    "outputId": "5acf6151-c76c-4e66-9c8f-f0f91e4bbf83"
   },
   "outputs": [
    {
     "name": "stdout",
     "output_type": "stream",
     "text": [
      "Archive:  test_cont.zip\n",
      "  inflating: test_cont.csv           \n"
     ]
    }
   ],
   "source": [
    "!unzip test_cont.zip"
   ]
  },
  {
   "cell_type": "code",
   "execution_count": 26,
   "metadata": {
    "colab": {
     "base_uri": "https://localhost:8080/",
     "height": 34
    },
    "colab_type": "code",
    "executionInfo": {
     "elapsed": 1279,
     "status": "ok",
     "timestamp": 1534080027710,
     "user": {
      "displayName": "Nishant Bhavsar",
      "photoUrl": "//lh6.googleusercontent.com/-Rn6jrAUH2RM/AAAAAAAAAAI/AAAAAAAAAA0/SbeLycr5PD8/s50-c-k-no/photo.jpg",
      "userId": "116097562907942520132"
     },
     "user_tz": -330
    },
    "id": "Fhk3CX-7Su6t",
    "outputId": "e139a21b-8943-4e34-987a-99e107f40b07"
   },
   "outputs": [
    {
     "data": {
      "text/plain": [
       "['train_cont.zip', 'test_cont.csv', 'test_cont.zip', 'train_cont.csv']"
      ]
     },
     "execution_count": 26,
     "metadata": {
      "tags": []
     },
     "output_type": "execute_result"
    }
   ],
   "source": [
    "os.listdir()"
   ]
  },
  {
   "cell_type": "code",
   "execution_count": 0,
   "metadata": {
    "colab": {},
    "colab_type": "code",
    "id": "TCvKbh1KS5Lk"
   },
   "outputs": [],
   "source": [
    "!rm train_cont.zip\n",
    "!rm test_cont.zip"
   ]
  },
  {
   "cell_type": "code",
   "execution_count": 0,
   "metadata": {
    "colab": {},
    "colab_type": "code",
    "id": "faxddZaFS5Ew"
   },
   "outputs": [],
   "source": [
    "!cp ../../drive/ColabNotebooks/AV_innoplexus_html/sample_submission.csv ."
   ]
  },
  {
   "cell_type": "code",
   "execution_count": 29,
   "metadata": {
    "colab": {
     "base_uri": "https://localhost:8080/",
     "height": 34
    },
    "colab_type": "code",
    "executionInfo": {
     "elapsed": 1010,
     "status": "ok",
     "timestamp": 1534080086373,
     "user": {
      "displayName": "Nishant Bhavsar",
      "photoUrl": "//lh6.googleusercontent.com/-Rn6jrAUH2RM/AAAAAAAAAAI/AAAAAAAAAA0/SbeLycr5PD8/s50-c-k-no/photo.jpg",
      "userId": "116097562907942520132"
     },
     "user_tz": -330
    },
    "id": "tvfJbvsgTFgQ",
    "outputId": "fee53d26-949e-4831-8d42-8de623ae657d"
   },
   "outputs": [
    {
     "data": {
      "text/plain": [
       "['test_cont.csv', 'sample_submission.csv', 'train_cont.csv']"
      ]
     },
     "execution_count": 29,
     "metadata": {
      "tags": []
     },
     "output_type": "execute_result"
    }
   ],
   "source": [
    "os.listdir()"
   ]
  },
  {
   "cell_type": "code",
   "execution_count": 0,
   "metadata": {
    "colab": {},
    "colab_type": "code",
    "id": "ndgZKZ0rTUsT"
   },
   "outputs": [],
   "source": [
    "os.chdir('..')"
   ]
  },
  {
   "cell_type": "code",
   "execution_count": 31,
   "metadata": {
    "colab": {
     "base_uri": "https://localhost:8080/",
     "height": 34
    },
    "colab_type": "code",
    "executionInfo": {
     "elapsed": 1254,
     "status": "ok",
     "timestamp": 1534080156301,
     "user": {
      "displayName": "Nishant Bhavsar",
      "photoUrl": "//lh6.googleusercontent.com/-Rn6jrAUH2RM/AAAAAAAAAAI/AAAAAAAAAA0/SbeLycr5PD8/s50-c-k-no/photo.jpg",
      "userId": "116097562907942520132"
     },
     "user_tz": -330
    },
    "id": "z-xeKS3oTWq1",
    "outputId": "e0c28194-e99c-4d75-8527-e1ee0abc74d6"
   },
   "outputs": [
    {
     "data": {
      "text/plain": [
       "['submissions', 'input', 'code']"
      ]
     },
     "execution_count": 31,
     "metadata": {
      "tags": []
     },
     "output_type": "execute_result"
    }
   ],
   "source": [
    "os.listdir()"
   ]
  },
  {
   "cell_type": "code",
   "execution_count": 0,
   "metadata": {
    "colab": {},
    "colab_type": "code",
    "id": "C7J161RATYsg"
   },
   "outputs": [],
   "source": [
    "os.chdir('code')"
   ]
  },
  {
   "cell_type": "markdown",
   "metadata": {
    "colab_type": "text",
    "id": "YHtQyq3SQ8A-"
   },
   "source": [
    "# Innoplexus Online Hiring Hackathon 2018-08-11"
   ]
  },
  {
   "cell_type": "code",
   "execution_count": 33,
   "metadata": {
    "colab": {
     "base_uri": "https://localhost:8080/",
     "height": 34
    },
    "colab_type": "code",
    "executionInfo": {
     "elapsed": 1022,
     "status": "ok",
     "timestamp": 1534080175434,
     "user": {
      "displayName": "Nishant Bhavsar",
      "photoUrl": "//lh6.googleusercontent.com/-Rn6jrAUH2RM/AAAAAAAAAAI/AAAAAAAAAA0/SbeLycr5PD8/s50-c-k-no/photo.jpg",
      "userId": "116097562907942520132"
     },
     "user_tz": -330
    },
    "id": "AF7cxrMsQH97",
    "outputId": "47b425b2-dca0-47d3-8376-6d85b3ef01a0"
   },
   "outputs": [
    {
     "data": {
      "text/plain": [
       "['submissions', 'input', 'code']"
      ]
     },
     "execution_count": 33,
     "metadata": {
      "tags": []
     },
     "output_type": "execute_result"
    }
   ],
   "source": [
    "os.listdir('..')"
   ]
  },
  {
   "cell_type": "code",
   "execution_count": 34,
   "metadata": {
    "colab": {
     "base_uri": "https://localhost:8080/",
     "height": 34
    },
    "colab_type": "code",
    "executionInfo": {
     "elapsed": 1057,
     "status": "ok",
     "timestamp": 1534080179212,
     "user": {
      "displayName": "Nishant Bhavsar",
      "photoUrl": "//lh6.googleusercontent.com/-Rn6jrAUH2RM/AAAAAAAAAAI/AAAAAAAAAA0/SbeLycr5PD8/s50-c-k-no/photo.jpg",
      "userId": "116097562907942520132"
     },
     "user_tz": -330
    },
    "id": "N_qeSmkwQLZA",
    "outputId": "397eba75-8787-47be-d018-aff3b2378f23"
   },
   "outputs": [
    {
     "data": {
      "text/plain": [
       "['test_cont.csv', 'sample_submission.csv', 'train_cont.csv']"
      ]
     },
     "execution_count": 34,
     "metadata": {
      "tags": []
     },
     "output_type": "execute_result"
    }
   ],
   "source": [
    "os.listdir('../input')"
   ]
  },
  {
   "cell_type": "code",
   "execution_count": 0,
   "metadata": {
    "colab": {},
    "colab_type": "code",
    "id": "Z3idcREaQv2f"
   },
   "outputs": [],
   "source": [
    "import pandas as pd\n",
    "import numpy as np\n",
    "np.random.seed(2018)"
   ]
  },
  {
   "cell_type": "code",
   "execution_count": 0,
   "metadata": {
    "colab": {},
    "colab_type": "code",
    "id": "zm2_sytCRWol"
   },
   "outputs": [],
   "source": [
    "train_df = pd.read_csv('../input/train_cont.csv')\n",
    "test_df = pd.read_csv('../input/test_cont.csv')"
   ]
  },
  {
   "cell_type": "code",
   "execution_count": 38,
   "metadata": {
    "colab": {
     "base_uri": "https://localhost:8080/",
     "height": 204
    },
    "colab_type": "code",
    "executionInfo": {
     "elapsed": 1037,
     "status": "ok",
     "timestamp": 1534080263759,
     "user": {
      "displayName": "Nishant Bhavsar",
      "photoUrl": "//lh6.googleusercontent.com/-Rn6jrAUH2RM/AAAAAAAAAAI/AAAAAAAAAA0/SbeLycr5PD8/s50-c-k-no/photo.jpg",
      "userId": "116097562907942520132"
     },
     "user_tz": -330
    },
    "id": "BSdcGRPqRpBS",
    "outputId": "c2a6347d-e17a-4516-e6d1-1ece25cdf0c1"
   },
   "outputs": [
    {
     "data": {
      "text/html": [
       "<div>\n",
       "<style scoped>\n",
       "    .dataframe tbody tr th:only-of-type {\n",
       "        vertical-align: middle;\n",
       "    }\n",
       "\n",
       "    .dataframe tbody tr th {\n",
       "        vertical-align: top;\n",
       "    }\n",
       "\n",
       "    .dataframe thead th {\n",
       "        text-align: right;\n",
       "    }\n",
       "</style>\n",
       "<table border=\"1\" class=\"dataframe\">\n",
       "  <thead>\n",
       "    <tr style=\"text-align: right;\">\n",
       "      <th></th>\n",
       "      <th>Webpage_id</th>\n",
       "      <th>Domain</th>\n",
       "      <th>Url</th>\n",
       "      <th>Tag</th>\n",
       "      <th>Content</th>\n",
       "    </tr>\n",
       "  </thead>\n",
       "  <tbody>\n",
       "    <tr>\n",
       "      <th>0</th>\n",
       "      <td>1</td>\n",
       "      <td>www.fiercepharma.com</td>\n",
       "      <td>http://www.fiercepharma.com/marketing/tecfider...</td>\n",
       "      <td>news</td>\n",
       "      <td>tecfidera gilenya aubagio battle ms share heat...</td>\n",
       "    </tr>\n",
       "    <tr>\n",
       "      <th>1</th>\n",
       "      <td>2</td>\n",
       "      <td>www.fiercepharma.com</td>\n",
       "      <td>http://www.fiercepharma.com/pharma/novo-equipp...</td>\n",
       "      <td>news</td>\n",
       "      <td>novo equipped weather storm diabetes market ce...</td>\n",
       "    </tr>\n",
       "    <tr>\n",
       "      <th>2</th>\n",
       "      <td>3</td>\n",
       "      <td>www.fiercepharma.com</td>\n",
       "      <td>http://www.fiercepharma.com/pharma/another-exe...</td>\n",
       "      <td>news</td>\n",
       "      <td>another exec departs troubled endo time anothe...</td>\n",
       "    </tr>\n",
       "    <tr>\n",
       "      <th>3</th>\n",
       "      <td>4</td>\n",
       "      <td>www.fiercepharma.com</td>\n",
       "      <td>http://www.fiercepharma.com/pharma/teva-buy-bi...</td>\n",
       "      <td>news</td>\n",
       "      <td>would teva buy korea celltrion beef biosimilar...</td>\n",
       "    </tr>\n",
       "    <tr>\n",
       "      <th>4</th>\n",
       "      <td>5</td>\n",
       "      <td>www.fiercepharma.com</td>\n",
       "      <td>http://www.fiercepharma.com/marketing/actress-...</td>\n",
       "      <td>news</td>\n",
       "      <td>allergan recruits actress marisa tomei drive d...</td>\n",
       "    </tr>\n",
       "  </tbody>\n",
       "</table>\n",
       "</div>"
      ],
      "text/plain": [
       "   Webpage_id                Domain  \\\n",
       "0           1  www.fiercepharma.com   \n",
       "1           2  www.fiercepharma.com   \n",
       "2           3  www.fiercepharma.com   \n",
       "3           4  www.fiercepharma.com   \n",
       "4           5  www.fiercepharma.com   \n",
       "\n",
       "                                                 Url   Tag  \\\n",
       "0  http://www.fiercepharma.com/marketing/tecfider...  news   \n",
       "1  http://www.fiercepharma.com/pharma/novo-equipp...  news   \n",
       "2  http://www.fiercepharma.com/pharma/another-exe...  news   \n",
       "3  http://www.fiercepharma.com/pharma/teva-buy-bi...  news   \n",
       "4  http://www.fiercepharma.com/marketing/actress-...  news   \n",
       "\n",
       "                                             Content  \n",
       "0  tecfidera gilenya aubagio battle ms share heat...  \n",
       "1  novo equipped weather storm diabetes market ce...  \n",
       "2  another exec departs troubled endo time anothe...  \n",
       "3  would teva buy korea celltrion beef biosimilar...  \n",
       "4  allergan recruits actress marisa tomei drive d...  "
      ]
     },
     "execution_count": 38,
     "metadata": {
      "tags": []
     },
     "output_type": "execute_result"
    }
   ],
   "source": [
    "train_df.head()"
   ]
  },
  {
   "cell_type": "code",
   "execution_count": 39,
   "metadata": {
    "colab": {
     "base_uri": "https://localhost:8080/",
     "height": 34
    },
    "colab_type": "code",
    "executionInfo": {
     "elapsed": 1106,
     "status": "ok",
     "timestamp": 1534080285590,
     "user": {
      "displayName": "Nishant Bhavsar",
      "photoUrl": "//lh6.googleusercontent.com/-Rn6jrAUH2RM/AAAAAAAAAAI/AAAAAAAAAA0/SbeLycr5PD8/s50-c-k-no/photo.jpg",
      "userId": "116097562907942520132"
     },
     "user_tz": -330
    },
    "id": "GfHWEaFtRquU",
    "outputId": "dbf82d2e-e0e6-4138-f3c7-13414f0d9563"
   },
   "outputs": [
    {
     "data": {
      "text/plain": [
       "(53447, 5)"
      ]
     },
     "execution_count": 39,
     "metadata": {
      "tags": []
     },
     "output_type": "execute_result"
    }
   ],
   "source": [
    "train_df.shape"
   ]
  },
  {
   "cell_type": "code",
   "execution_count": 40,
   "metadata": {
    "colab": {
     "base_uri": "https://localhost:8080/",
     "height": 119
    },
    "colab_type": "code",
    "executionInfo": {
     "elapsed": 1378,
     "status": "ok",
     "timestamp": 1534080287131,
     "user": {
      "displayName": "Nishant Bhavsar",
      "photoUrl": "//lh6.googleusercontent.com/-Rn6jrAUH2RM/AAAAAAAAAAI/AAAAAAAAAA0/SbeLycr5PD8/s50-c-k-no/photo.jpg",
      "userId": "116097562907942520132"
     },
     "user_tz": -330
    },
    "id": "4og0ac0-R6I6",
    "outputId": "377e3288-42f8-4cb7-cd94-1b4ce08aca3a"
   },
   "outputs": [
    {
     "data": {
      "text/plain": [
       "Webpage_id    0\n",
       "Domain        0\n",
       "Url           0\n",
       "Tag           0\n",
       "Content       0\n",
       "dtype: int64"
      ]
     },
     "execution_count": 40,
     "metadata": {
      "tags": []
     },
     "output_type": "execute_result"
    }
   ],
   "source": [
    "train_df.isnull().sum()"
   ]
  },
  {
   "cell_type": "code",
   "execution_count": 41,
   "metadata": {
    "colab": {
     "base_uri": "https://localhost:8080/",
     "height": 357
    },
    "colab_type": "code",
    "executionInfo": {
     "elapsed": 1012,
     "status": "ok",
     "timestamp": 1534080293115,
     "user": {
      "displayName": "Nishant Bhavsar",
      "photoUrl": "//lh6.googleusercontent.com/-Rn6jrAUH2RM/AAAAAAAAAAI/AAAAAAAAAA0/SbeLycr5PD8/s50-c-k-no/photo.jpg",
      "userId": "116097562907942520132"
     },
     "user_tz": -330
    },
    "id": "NNSDgTZXSCxU",
    "outputId": "3a4c88ad-9f3f-4410-d2f5-b11c91961e5d"
   },
   "outputs": [
    {
     "name": "stdout",
     "output_type": "stream",
     "text": [
      "others            17417\n",
      "news               7992\n",
      "publication        7705\n",
      "profile            5196\n",
      "conferences        4666\n",
      "forum              4503\n",
      "clinicalTrials     2839\n",
      "thesis             1800\n",
      "guidelines         1329\n",
      "Name: Tag, dtype: int64\n",
      "others            0.325874\n",
      "news              0.149531\n",
      "publication       0.144162\n",
      "profile           0.097218\n",
      "conferences       0.087301\n",
      "forum             0.084252\n",
      "clinicalTrials    0.053118\n",
      "thesis            0.033678\n",
      "guidelines        0.024866\n",
      "Name: Tag, dtype: float64\n"
     ]
    }
   ],
   "source": [
    "print(train_df['Tag'].value_counts())\n",
    "print(train_df['Tag'].value_counts(normalize=True))"
   ]
  },
  {
   "cell_type": "code",
   "execution_count": 44,
   "metadata": {
    "colab": {
     "base_uri": "https://localhost:8080/",
     "height": 34
    },
    "colab_type": "code",
    "executionInfo": {
     "elapsed": 1001,
     "status": "ok",
     "timestamp": 1534080312776,
     "user": {
      "displayName": "Nishant Bhavsar",
      "photoUrl": "//lh6.googleusercontent.com/-Rn6jrAUH2RM/AAAAAAAAAAI/AAAAAAAAAA0/SbeLycr5PD8/s50-c-k-no/photo.jpg",
      "userId": "116097562907942520132"
     },
     "user_tz": -330
    },
    "id": "QnOAx9irTcuV",
    "outputId": "060f3651-ec8f-48a3-bda3-c9c4f01ce9e9"
   },
   "outputs": [
    {
     "data": {
      "text/plain": [
       "3974"
      ]
     },
     "execution_count": 44,
     "metadata": {
      "tags": []
     },
     "output_type": "execute_result"
    }
   ],
   "source": [
    "train_df['Domain'].nunique()"
   ]
  },
  {
   "cell_type": "code",
   "execution_count": 0,
   "metadata": {
    "colab": {},
    "colab_type": "code",
    "id": "lvvrtExFBFYL"
   },
   "outputs": [],
   "source": [
    "# 3974 unique domains in train dataset"
   ]
  },
  {
   "cell_type": "code",
   "execution_count": 46,
   "metadata": {
    "colab": {
     "base_uri": "https://localhost:8080/",
     "height": 364
    },
    "colab_type": "code",
    "executionInfo": {
     "elapsed": 1529,
     "status": "ok",
     "timestamp": 1534080318169,
     "user": {
      "displayName": "Nishant Bhavsar",
      "photoUrl": "//lh6.googleusercontent.com/-Rn6jrAUH2RM/AAAAAAAAAAI/AAAAAAAAAA0/SbeLycr5PD8/s50-c-k-no/photo.jpg",
      "userId": "116097562907942520132"
     },
     "user_tz": -330
    },
    "id": "XErBTmStTyZ-",
    "outputId": "6cebe05b-a262-42c8-dd6a-eb9a9518426f"
   },
   "outputs": [
    {
     "data": {
      "text/plain": [
       "<matplotlib.axes._subplots.AxesSubplot at 0x7fbc51184898>"
      ]
     },
     "execution_count": 46,
     "metadata": {
      "tags": []
     },
     "output_type": "execute_result"
    },
    {
     "data": {
      "image/png": "[encoded data removed]",
      "text/plain": [
       "<matplotlib.figure.Figure at 0x7fbc989bada0>"
      ]
     },
     "metadata": {
      "tags": []
     },
     "output_type": "display_data"
    }
   ],
   "source": [
    "train_df['Domain'].value_counts().hist(bins=200)"
   ]
  },
  {
   "cell_type": "code",
   "execution_count": 0,
   "metadata": {
    "colab": {},
    "colab_type": "code",
    "id": "HVZ877mJ-QHc"
   },
   "outputs": [],
   "source": [
    "# There are more domains which are present 0-10 times in dataset"
   ]
  },
  {
   "cell_type": "code",
   "execution_count": 48,
   "metadata": {
    "colab": {
     "base_uri": "https://localhost:8080/",
     "height": 34
    },
    "colab_type": "code",
    "executionInfo": {
     "elapsed": 1468,
     "status": "ok",
     "timestamp": 1534080322181,
     "user": {
      "displayName": "Nishant Bhavsar",
      "photoUrl": "//lh6.googleusercontent.com/-Rn6jrAUH2RM/AAAAAAAAAAI/AAAAAAAAAA0/SbeLycr5PD8/s50-c-k-no/photo.jpg",
      "userId": "116097562907942520132"
     },
     "user_tz": -330
    },
    "id": "moZygRGeSqXE",
    "outputId": "84f14df1-b4f1-461d-fbfd-03564fc4261a"
   },
   "outputs": [
    {
     "data": {
      "text/plain": [
       "(25787, 4)"
      ]
     },
     "execution_count": 48,
     "metadata": {
      "tags": []
     },
     "output_type": "execute_result"
    }
   ],
   "source": [
    "test_df.shape"
   ]
  },
  {
   "cell_type": "code",
   "execution_count": 49,
   "metadata": {
    "colab": {
     "base_uri": "https://localhost:8080/",
     "height": 102
    },
    "colab_type": "code",
    "executionInfo": {
     "elapsed": 711,
     "status": "ok",
     "timestamp": 1534080323645,
     "user": {
      "displayName": "Nishant Bhavsar",
      "photoUrl": "//lh6.googleusercontent.com/-Rn6jrAUH2RM/AAAAAAAAAAI/AAAAAAAAAA0/SbeLycr5PD8/s50-c-k-no/photo.jpg",
      "userId": "116097562907942520132"
     },
     "user_tz": -330
    },
    "id": "FavqoJaETLus",
    "outputId": "7b402b7f-5c7e-4e23-8bb7-5757fc10f1be"
   },
   "outputs": [
    {
     "data": {
      "text/plain": [
       "Webpage_id    0\n",
       "Domain        0\n",
       "Url           0\n",
       "Content       0\n",
       "dtype: int64"
      ]
     },
     "execution_count": 49,
     "metadata": {
      "tags": []
     },
     "output_type": "execute_result"
    }
   ],
   "source": [
    "test_df.isnull().sum()"
   ]
  },
  {
   "cell_type": "code",
   "execution_count": 50,
   "metadata": {
    "colab": {
     "base_uri": "https://localhost:8080/",
     "height": 34
    },
    "colab_type": "code",
    "executionInfo": {
     "elapsed": 802,
     "status": "ok",
     "timestamp": 1534080325269,
     "user": {
      "displayName": "Nishant Bhavsar",
      "photoUrl": "//lh6.googleusercontent.com/-Rn6jrAUH2RM/AAAAAAAAAAI/AAAAAAAAAA0/SbeLycr5PD8/s50-c-k-no/photo.jpg",
      "userId": "116097562907942520132"
     },
     "user_tz": -330
    },
    "id": "Fme9IsMZgpm8",
    "outputId": "a52f6911-1fef-4cb9-d371-0820eb954cf8"
   },
   "outputs": [
    {
     "data": {
      "text/plain": [
       "2150"
      ]
     },
     "execution_count": 50,
     "metadata": {
      "tags": []
     },
     "output_type": "execute_result"
    }
   ],
   "source": [
    "test_df['Domain'].nunique()"
   ]
  },
  {
   "cell_type": "code",
   "execution_count": 0,
   "metadata": {
    "colab": {},
    "colab_type": "code",
    "id": "p63Ew-zGBopN"
   },
   "outputs": [],
   "source": [
    "# 2150 unique domains in test dataset"
   ]
  },
  {
   "cell_type": "code",
   "execution_count": 52,
   "metadata": {
    "colab": {
     "base_uri": "https://localhost:8080/",
     "height": 364
    },
    "colab_type": "code",
    "executionInfo": {
     "elapsed": 2104,
     "status": "ok",
     "timestamp": 1534080329702,
     "user": {
      "displayName": "Nishant Bhavsar",
      "photoUrl": "//lh6.googleusercontent.com/-Rn6jrAUH2RM/AAAAAAAAAAI/AAAAAAAAAA0/SbeLycr5PD8/s50-c-k-no/photo.jpg",
      "userId": "116097562907942520132"
     },
     "user_tz": -330
    },
    "id": "IJu2IuX1TXA8",
    "outputId": "58b9c079-ac99-40d5-91cf-b19968dd8b10"
   },
   "outputs": [
    {
     "data": {
      "text/plain": [
       "<matplotlib.axes._subplots.AxesSubplot at 0x7fbc50fe3160>"
      ]
     },
     "execution_count": 52,
     "metadata": {
      "tags": []
     },
     "output_type": "execute_result"
    },
    {
     "data": {
      "image/png": "[encoded data removed]",
      "text/plain": [
       "<matplotlib.figure.Figure at 0x7fbc51008a20>"
      ]
     },
     "metadata": {
      "tags": []
     },
     "output_type": "display_data"
    }
   ],
   "source": [
    "test_df['Domain'].value_counts().hist(bins=200)"
   ]
  },
  {
   "cell_type": "code",
   "execution_count": 0,
   "metadata": {
    "colab": {},
    "colab_type": "code",
    "id": "6yXmJ5y8k41G"
   },
   "outputs": [],
   "source": [
    "# check if all domain of test dataset are also present in Train dataset"
   ]
  },
  {
   "cell_type": "code",
   "execution_count": 54,
   "metadata": {
    "colab": {
     "base_uri": "https://localhost:8080/",
     "height": 34
    },
    "colab_type": "code",
    "executionInfo": {
     "elapsed": 1068,
     "status": "ok",
     "timestamp": 1534080332521,
     "user": {
      "displayName": "Nishant Bhavsar",
      "photoUrl": "//lh6.googleusercontent.com/-Rn6jrAUH2RM/AAAAAAAAAAI/AAAAAAAAAA0/SbeLycr5PD8/s50-c-k-no/photo.jpg",
      "userId": "116097562907942520132"
     },
     "user_tz": -330
    },
    "id": "tNFJyXq6lMXT",
    "outputId": "120092bc-5a2d-47a6-b815-c14fc7ab325c"
   },
   "outputs": [
    {
     "data": {
      "text/plain": [
       "1572"
      ]
     },
     "execution_count": 54,
     "metadata": {
      "tags": []
     },
     "output_type": "execute_result"
    }
   ],
   "source": [
    "len(set(test_df['Domain'].unique()) - set(train_df['Domain'].unique()))"
   ]
  },
  {
   "cell_type": "code",
   "execution_count": 0,
   "metadata": {
    "colab": {},
    "colab_type": "code",
    "id": "LJzkKqNEVdBU"
   },
   "outputs": [],
   "source": [
    "# So, out of 2150 domains which are present in test dataset, 1572 domains are not present in Train dataset."
   ]
  },
  {
   "cell_type": "markdown",
   "metadata": {
    "colab_type": "text",
    "id": "V7Aj-d37oTy3"
   },
   "source": [
    "## Domain with Tags"
   ]
  },
  {
   "cell_type": "code",
   "execution_count": 56,
   "metadata": {
    "colab": {
     "base_uri": "https://localhost:8080/",
     "height": 119
    },
    "colab_type": "code",
    "executionInfo": {
     "elapsed": 1188,
     "status": "ok",
     "timestamp": 1534080335333,
     "user": {
      "displayName": "Nishant Bhavsar",
      "photoUrl": "//lh6.googleusercontent.com/-Rn6jrAUH2RM/AAAAAAAAAAI/AAAAAAAAAA0/SbeLycr5PD8/s50-c-k-no/photo.jpg",
      "userId": "116097562907942520132"
     },
     "user_tz": -330
    },
    "id": "hbpViG_HnoZq",
    "outputId": "7d2b7432-8670-49d7-9d58-15d66e984d2b"
   },
   "outputs": [
    {
     "data": {
      "text/plain": [
       "1    3370\n",
       "2     419\n",
       "3     162\n",
       "4      22\n",
       "5       1\n",
       "Name: Tag, dtype: int64"
      ]
     },
     "execution_count": 56,
     "metadata": {
      "tags": []
     },
     "output_type": "execute_result"
    }
   ],
   "source": [
    "train_df.groupby(['Domain'])['Tag'].nunique().value_counts()"
   ]
  },
  {
   "cell_type": "code",
   "execution_count": 57,
   "metadata": {
    "colab": {
     "base_uri": "https://localhost:8080/",
     "height": 119
    },
    "colab_type": "code",
    "executionInfo": {
     "elapsed": 1075,
     "status": "ok",
     "timestamp": 1534080336707,
     "user": {
      "displayName": "Nishant Bhavsar",
      "photoUrl": "//lh6.googleusercontent.com/-Rn6jrAUH2RM/AAAAAAAAAAI/AAAAAAAAAA0/SbeLycr5PD8/s50-c-k-no/photo.jpg",
      "userId": "116097562907942520132"
     },
     "user_tz": -330
    },
    "id": "rpI1Yj8YAYXe",
    "outputId": "26e173e6-aa53-4f7a-9b74-a61dcdf32176"
   },
   "outputs": [
    {
     "data": {
      "text/plain": [
       "1    0.848012\n",
       "2    0.105435\n",
       "3    0.040765\n",
       "4    0.005536\n",
       "5    0.000252\n",
       "Name: Tag, dtype: float64"
      ]
     },
     "execution_count": 57,
     "metadata": {
      "tags": []
     },
     "output_type": "execute_result"
    }
   ],
   "source": [
    "train_df.groupby(['Domain'])['Tag'].nunique().value_counts(normalize=True)"
   ]
  },
  {
   "cell_type": "code",
   "execution_count": 0,
   "metadata": {
    "colab": {},
    "colab_type": "code",
    "id": "vNCTiuCNtM5b"
   },
   "outputs": [],
   "source": [
    "# In train dataset only 3974 unique Domains.\n",
    "# There are 3370 domains which has only 1 Tag\n",
    "# There are 419 domains which has 2 Tags\n",
    "# There are 162 domains which has 3 Tags\n",
    "# There are 22 domains which has 4 Tags\n",
    "# There is only 1 domain which has 5 Tags\n",
    "# So, many websires has only one tags."
   ]
  },
  {
   "cell_type": "code",
   "execution_count": 0,
   "metadata": {
    "colab": {},
    "colab_type": "code",
    "id": "I_5oSj6patf_"
   },
   "outputs": [],
   "source": [
    "# check how many records in test set has domain name which are also present in train test"
   ]
  },
  {
   "cell_type": "code",
   "execution_count": 60,
   "metadata": {
    "colab": {
     "base_uri": "https://localhost:8080/",
     "height": 34
    },
    "colab_type": "code",
    "executionInfo": {
     "elapsed": 727,
     "status": "ok",
     "timestamp": 1534080342205,
     "user": {
      "displayName": "Nishant Bhavsar",
      "photoUrl": "//lh6.googleusercontent.com/-Rn6jrAUH2RM/AAAAAAAAAAI/AAAAAAAAAA0/SbeLycr5PD8/s50-c-k-no/photo.jpg",
      "userId": "116097562907942520132"
     },
     "user_tz": -330
    },
    "id": "ko5R6vfya852",
    "outputId": "a384aa93-48ad-4f8d-f33c-b237bf6b840b"
   },
   "outputs": [
    {
     "data": {
      "text/plain": [
       "(9105, 4)"
      ]
     },
     "execution_count": 60,
     "metadata": {
      "tags": []
     },
     "output_type": "execute_result"
    }
   ],
   "source": [
    "test_df[test_df['Domain'].isin(set(train_df['Domain'].unique()).intersection(test_df['Domain'].unique()))].shape"
   ]
  },
  {
   "cell_type": "code",
   "execution_count": 0,
   "metadata": {
    "colab": {},
    "colab_type": "code",
    "id": "tLIWAjNTbMpE"
   },
   "outputs": [],
   "source": [
    "# 9105 records out of 25787 records in test dataset has domain name which are also present in train dataset.  which is 35% of data"
   ]
  },
  {
   "cell_type": "code",
   "execution_count": 72,
   "metadata": {
    "colab": {
     "base_uri": "https://localhost:8080/",
     "height": 34
    },
    "colab_type": "code",
    "executionInfo": {
     "elapsed": 998,
     "status": "ok",
     "timestamp": 1534081477843,
     "user": {
      "displayName": "Nishant Bhavsar",
      "photoUrl": "//lh6.googleusercontent.com/-Rn6jrAUH2RM/AAAAAAAAAAI/AAAAAAAAAA0/SbeLycr5PD8/s50-c-k-no/photo.jpg",
      "userId": "116097562907942520132"
     },
     "user_tz": -330
    },
    "id": "GLD3LmAqWbWa",
    "outputId": "e3999e99-74cc-4275-e5fc-3c8ce5c64694"
   },
   "outputs": [
    {
     "data": {
      "text/plain": [
       "(8144.727842535596, 20246.477518719457, 3570491, 5)"
      ]
     },
     "execution_count": 72,
     "metadata": {
      "tags": []
     },
     "output_type": "execute_result"
    }
   ],
   "source": [
    "lens = train_df['Content'].str.len()\n",
    "lens.mean(), lens.std(), lens.max(), lens.min()"
   ]
  },
  {
   "cell_type": "code",
   "execution_count": 0,
   "metadata": {
    "colab": {},
    "colab_type": "code",
    "id": "Ez9FaQJiUww_"
   },
   "outputs": [],
   "source": [
    "from sklearn.model_selection import train_test_split"
   ]
  },
  {
   "cell_type": "code",
   "execution_count": 0,
   "metadata": {
    "colab": {},
    "colab_type": "code",
    "id": "lIhKZ9ZTG-Kr"
   },
   "outputs": [],
   "source": [
    "y = train_df['Tag'].values\n",
    "X_train, X_valid, Y_train, Y_valid = train_test_split(train_df, y, test_size = 0.1, stratify=y)"
   ]
  },
  {
   "cell_type": "code",
   "execution_count": 0,
   "metadata": {
    "colab": {},
    "colab_type": "code",
    "id": "FQAYiYz9gIfK"
   },
   "outputs": [],
   "source": [
    "del train_df"
   ]
  },
  {
   "cell_type": "markdown",
   "metadata": {
    "colab_type": "text",
    "id": "9l067m_KVKnp"
   },
   "source": [
    "## NBSVM  Model , one vs rest, NOT WORKING(really low accuracy)\n",
    "https://www.kaggle.com/jhoward/nb-svm-strong-linear-baseline"
   ]
  },
  {
   "cell_type": "code",
   "execution_count": 0,
   "metadata": {
    "colab": {},
    "colab_type": "code",
    "id": "-5PFKJdPU4Fa"
   },
   "outputs": [],
   "source": [
    "from sklearn.linear_model import LogisticRegression\n",
    "from sklearn.feature_extraction.text import CountVectorizer, TfidfVectorizer"
   ]
  },
  {
   "cell_type": "code",
   "execution_count": 0,
   "metadata": {
    "colab": {},
    "colab_type": "code",
    "id": "r2AAJ66MYK21"
   },
   "outputs": [],
   "source": [
    "vec = TfidfVectorizer()\n",
    "X_train_cont_doc = vec.fit_transform(X_train['Content'])\n",
    "X_valid_cont_doc = vec.transform(X_valid['Content'])\n",
    "test_cont_doc = vec.transform(test_df['Content'])"
   ]
  },
  {
   "cell_type": "code",
   "execution_count": 116,
   "metadata": {
    "colab": {
     "base_uri": "https://localhost:8080/",
     "height": 119
    },
    "colab_type": "code",
    "executionInfo": {
     "elapsed": 961,
     "status": "ok",
     "timestamp": 1534085868692,
     "user": {
      "displayName": "Nishant Bhavsar",
      "photoUrl": "//lh6.googleusercontent.com/-Rn6jrAUH2RM/AAAAAAAAAAI/AAAAAAAAAA0/SbeLycr5PD8/s50-c-k-no/photo.jpg",
      "userId": "116097562907942520132"
     },
     "user_tz": -330
    },
    "id": "jfGjg9zlexeh",
    "outputId": "c0ef1f1d-d08f-42a4-c750-ddffd2c1c329"
   },
   "outputs": [
    {
     "data": {
      "text/plain": [
       "(<48102x700636 sparse matrix of type '<class 'numpy.float64'>'\n",
       " \twith 20781303 stored elements in Compressed Sparse Row format>,\n",
       " <5345x700636 sparse matrix of type '<class 'numpy.float64'>'\n",
       " \twith 2210218 stored elements in Compressed Sparse Row format>,\n",
       " <25787x700636 sparse matrix of type '<class 'numpy.float64'>'\n",
       " \twith 11405755 stored elements in Compressed Sparse Row format>)"
      ]
     },
     "execution_count": 116,
     "metadata": {
      "tags": []
     },
     "output_type": "execute_result"
    }
   ],
   "source": [
    "X_train_cont_doc, X_valid_cont_doc, test_cont_doc"
   ]
  },
  {
   "cell_type": "code",
   "execution_count": 0,
   "metadata": {
    "colab": {},
    "colab_type": "code",
    "id": "uy7AL1uSbt9L"
   },
   "outputs": [],
   "source": [
    "from sklearn.base import BaseEstimator, ClassifierMixin\n",
    "from sklearn.utils.validation import check_X_y, check_is_fitted\n",
    "from sklearn.linear_model import LogisticRegression\n",
    "from scipy import sparse\n",
    "\n",
    "\n",
    "class NbSvmClassifier(BaseEstimator, ClassifierMixin):\n",
    "    def __init__(self, C=1.0, dual=False, n_jobs=1):\n",
    "        self.C = C\n",
    "        self.dual = dual\n",
    "        self.n_jobs = n_jobs\n",
    "\n",
    "    def predict(self, x):\n",
    "        # Verify that model has been fit\n",
    "        check_is_fitted(self, ['_r', '_clf'])\n",
    "        return self._clf.predict(x.multiply(self._r))\n",
    "\n",
    "    def predict_proba(self, x):\n",
    "        # Verify that model has been fit\n",
    "        check_is_fitted(self, ['_r', '_clf'])\n",
    "        return self._clf.predict_proba(x.multiply(self._r))\n",
    "\n",
    "    def fit(self, x, y):\n",
    "        # Check that X and y have correct shape\n",
    "        y = y.values\n",
    "        x, y = check_X_y(x, y, accept_sparse=True)\n",
    "\n",
    "        def pr(x, y_i, y):\n",
    "            p = x[y==y_i].sum(0)\n",
    "            return (p+1) / ((y==y_i).sum()+1)\n",
    "\n",
    "        self._r = sparse.csr_matrix(np.log(pr(x,1,y) / pr(x,0,y)))\n",
    "        x_nb = x.multiply(self._r)\n",
    "        self._clf = LogisticRegression(C=self.C, dual=self.dual, n_jobs=self.n_jobs).fit(x_nb, y)\n",
    "        return self"
   ]
  },
  {
   "cell_type": "code",
   "execution_count": 0,
   "metadata": {
    "colab": {},
    "colab_type": "code",
    "id": "_vy1BK4Xf9dD"
   },
   "outputs": [],
   "source": []
  },
  {
   "cell_type": "code",
   "execution_count": 0,
   "metadata": {
    "colab": {},
    "colab_type": "code",
    "id": "XLxoBTbIdA8d"
   },
   "outputs": [],
   "source": [
    "Y_train_df = pd.DataFrame(Y_train, columns=['Tag'])\n",
    "Y_train_df = pd.get_dummies(Y_train_df)"
   ]
  },
  {
   "cell_type": "code",
   "execution_count": 0,
   "metadata": {
    "colab": {},
    "colab_type": "code",
    "id": "-A8veN5pektH"
   },
   "outputs": [],
   "source": [
    "Y_valid_df = pd.DataFrame(Y_valid, columns=['Tag'])\n",
    "Y_valid_df = pd.get_dummies(Y_valid_df)"
   ]
  },
  {
   "cell_type": "code",
   "execution_count": 0,
   "metadata": {
    "colab": {},
    "colab_type": "code",
    "id": "vlR6VEGhieDA"
   },
   "outputs": [],
   "source": [
    "nbsvm_models = {}"
   ]
  },
  {
   "cell_type": "code",
   "execution_count": 0,
   "metadata": {
    "colab": {},
    "colab_type": "code",
    "id": "wPrqwyXYdpzO"
   },
   "outputs": [],
   "source": [
    "# training \n",
    "for col in Y_train_df.columns:\n",
    "    nbsvm_models[col] = NbSvmClassifier(C=10, dual=True).fit(X_train_cont_doc, Y_train_df[col])"
   ]
  },
  {
   "cell_type": "code",
   "execution_count": 119,
   "metadata": {
    "colab": {
     "base_uri": "https://localhost:8080/",
     "height": 170
    },
    "colab_type": "code",
    "executionInfo": {
     "elapsed": 961,
     "status": "ok",
     "timestamp": 1534086124267,
     "user": {
      "displayName": "Nishant Bhavsar",
      "photoUrl": "//lh6.googleusercontent.com/-Rn6jrAUH2RM/AAAAAAAAAAI/AAAAAAAAAA0/SbeLycr5PD8/s50-c-k-no/photo.jpg",
      "userId": "116097562907942520132"
     },
     "user_tz": -330
    },
    "id": "U9heMZSGj5hk",
    "outputId": "b46e4a59-9ab9-4045-9db3-3183659fe725"
   },
   "outputs": [
    {
     "data": {
      "text/plain": [
       "{'Tag_clinicalTrials': NbSvmClassifier(C=10, dual=True, n_jobs=1),\n",
       " 'Tag_conferences': NbSvmClassifier(C=10, dual=True, n_jobs=1),\n",
       " 'Tag_forum': NbSvmClassifier(C=10, dual=True, n_jobs=1),\n",
       " 'Tag_guidelines': NbSvmClassifier(C=10, dual=True, n_jobs=1),\n",
       " 'Tag_news': NbSvmClassifier(C=10, dual=True, n_jobs=1),\n",
       " 'Tag_others': NbSvmClassifier(C=10, dual=True, n_jobs=1),\n",
       " 'Tag_profile': NbSvmClassifier(C=10, dual=True, n_jobs=1),\n",
       " 'Tag_publication': NbSvmClassifier(C=10, dual=True, n_jobs=1),\n",
       " 'Tag_thesis': NbSvmClassifier(C=10, dual=True, n_jobs=1)}"
      ]
     },
     "execution_count": 119,
     "metadata": {
      "tags": []
     },
     "output_type": "execute_result"
    }
   ],
   "source": [
    "nbsvm_models"
   ]
  },
  {
   "cell_type": "code",
   "execution_count": 0,
   "metadata": {
    "colab": {},
    "colab_type": "code",
    "id": "p4KXX-hOekCD"
   },
   "outputs": [],
   "source": [
    "valid_probs = pd.DataFrame(columns=Y_valid_df.columns, index=Y_valid_df.index)"
   ]
  },
  {
   "cell_type": "code",
   "execution_count": 0,
   "metadata": {
    "colab": {},
    "colab_type": "code",
    "id": "HBTD387Ekp6A"
   },
   "outputs": [],
   "source": [
    "# prediction on validation set\n",
    "for model_name in nbsvm_models.keys():\n",
    "    valid_probs[model_name] = nbsvm_models[model_name].predict_proba(X_valid_cont_doc)"
   ]
  },
  {
   "cell_type": "code",
   "execution_count": 0,
   "metadata": {
    "colab": {},
    "colab_type": "code",
    "id": "ESFmaYRTk5hW"
   },
   "outputs": [],
   "source": [
    "# get max probability column name, this is final prediction for validation set\n",
    "final_valid_pred_nbsvm1 = valid_probs.idxmax(axis=1).apply(lambda x: x.split('_')[1])"
   ]
  },
  {
   "cell_type": "code",
   "execution_count": 0,
   "metadata": {
    "colab": {},
    "colab_type": "code",
    "id": "xhNAm5R4ln1Z"
   },
   "outputs": [],
   "source": [
    "from sklearn.metrics import f1_score\n",
    "from sklearn.metrics import confusion_matrix"
   ]
  },
  {
   "cell_type": "code",
   "execution_count": 123,
   "metadata": {
    "colab": {
     "base_uri": "https://localhost:8080/",
     "height": 34
    },
    "colab_type": "code",
    "executionInfo": {
     "elapsed": 1014,
     "status": "ok",
     "timestamp": 1534086153542,
     "user": {
      "displayName": "Nishant Bhavsar",
      "photoUrl": "//lh6.googleusercontent.com/-Rn6jrAUH2RM/AAAAAAAAAAI/AAAAAAAAAA0/SbeLycr5PD8/s50-c-k-no/photo.jpg",
      "userId": "116097562907942520132"
     },
     "user_tz": -330
    },
    "id": "lKegovdNnOnS",
    "outputId": "04384527-fc8d-498a-d1f0-9d328f479d53"
   },
   "outputs": [
    {
     "data": {
      "text/plain": [
       "0.0"
      ]
     },
     "execution_count": 123,
     "metadata": {
      "tags": []
     },
     "output_type": "execute_result"
    }
   ],
   "source": [
    "f1_score(Y_valid, final_valid_pred_nbsvm1, average='weighted', labels=np.unique(final_valid_pred_nbsvm1.values))"
   ]
  },
  {
   "cell_type": "code",
   "execution_count": 0,
   "metadata": {
    "colab": {},
    "colab_type": "code",
    "id": "Y1x_OeNqnwnO"
   },
   "outputs": [],
   "source": [
    "import matplotlib.pyplot as plt\n",
    "%matplotlib inline\n",
    "import seaborn as sns"
   ]
  },
  {
   "cell_type": "code",
   "execution_count": 127,
   "metadata": {
    "colab": {
     "base_uri": "https://localhost:8080/",
     "height": 170
    },
    "colab_type": "code",
    "executionInfo": {
     "elapsed": 892,
     "status": "ok",
     "timestamp": 1534086239900,
     "user": {
      "displayName": "Nishant Bhavsar",
      "photoUrl": "//lh6.googleusercontent.com/-Rn6jrAUH2RM/AAAAAAAAAAI/AAAAAAAAAA0/SbeLycr5PD8/s50-c-k-no/photo.jpg",
      "userId": "116097562907942520132"
     },
     "user_tz": -330
    },
    "id": "OVcPcBlhqacG",
    "outputId": "cdd4bda6-5a72-4bd5-d1a4-155906f9c527"
   },
   "outputs": [
    {
     "data": {
      "text/plain": [
       "array([[  0,   8, 150,   0,   3,  13,  65,   2,  43],\n",
       "       [193,   0, 168,   5,   0,   8,  12,  29,  52],\n",
       "       [ 93,  67,   0,   4,  42,  13,  37, 129,  65],\n",
       "       [ 32,   1,  58,   0,   0,   0,   3,  16,  23],\n",
       "       [298,  11, 114,   9,   0,   5,  49, 103, 210],\n",
       "       [598,  81, 388,  20,  25,   0,  33, 337, 260],\n",
       "       [ 39,   6, 222,   1,   0,   7,   0,  58, 187],\n",
       "       [273,  11, 217,  39,   3, 143,  45,   0,  39],\n",
       "       [ 36,   0,  99,   3,   0,  15,   0,  27,   0]])"
      ]
     },
     "execution_count": 127,
     "metadata": {
      "tags": []
     },
     "output_type": "execute_result"
    }
   ],
   "source": [
    "confusion_matrix(Y_valid, final_valid_pred_nbsvm1)"
   ]
  },
  {
   "cell_type": "code",
   "execution_count": 0,
   "metadata": {
    "colab": {},
    "colab_type": "code",
    "id": "PRdzYbm6rRz4"
   },
   "outputs": [],
   "source": [
    "test_probs = pd.DataFrame(columns=Y_valid_df.columns, index=test_df.index)"
   ]
  },
  {
   "cell_type": "code",
   "execution_count": 0,
   "metadata": {
    "colab": {},
    "colab_type": "code",
    "id": "M2w0DHy7qlJX"
   },
   "outputs": [],
   "source": [
    "# prediction on test set\n",
    "for model_name in nbsvm_models.keys():\n",
    "    test_probs[model_name] = nbsvm_models[model_name].predict_proba(test_cont_doc)"
   ]
  },
  {
   "cell_type": "code",
   "execution_count": 0,
   "metadata": {
    "colab": {},
    "colab_type": "code",
    "id": "l0ay6HAbrFuI"
   },
   "outputs": [],
   "source": [
    "# get max probability column name, this is final prediction for test set\n",
    "final_test_pred_nbsvm1 = test_probs.idxmax(axis=1).apply(lambda x: x.split('_')[1])"
   ]
  },
  {
   "cell_type": "code",
   "execution_count": 0,
   "metadata": {
    "colab": {},
    "colab_type": "code",
    "id": "G_n8d3wiruX6"
   },
   "outputs": [],
   "source": [
    "sub = pd.read_csv('../input/sample_submission.csv')\n",
    "sub['Tag'] = final_test_pred_nbsvm1\n",
    "sub.to_csv('../submissions/nvsvm.csv', index=False)"
   ]
  },
  {
   "cell_type": "code",
   "execution_count": 0,
   "metadata": {
    "colab": {},
    "colab_type": "code",
    "id": "XZe9IOv3sGoi"
   },
   "outputs": [],
   "source": [
    "!cp ../submissions/nvsvm.csv ../../drive/ColabNotebooks/AV_innoplexus_html"
   ]
  },
  {
   "cell_type": "markdown",
   "metadata": {
    "colab_type": "text",
    "id": "INq221oxs_EK"
   },
   "source": [
    "## Linear SVM\n",
    "public LB : 0.7454722784\n",
    "Final model"
   ]
  },
  {
   "cell_type": "code",
   "execution_count": 0,
   "metadata": {
    "colab": {},
    "colab_type": "code",
    "id": "O6--FPvIsXiB"
   },
   "outputs": [],
   "source": [
    "from sklearn.svm import LinearSVC"
   ]
  },
  {
   "cell_type": "code",
   "execution_count": 0,
   "metadata": {
    "colab": {},
    "colab_type": "code",
    "id": "Nd1JwwlHu76d"
   },
   "outputs": [],
   "source": [
    "from sklearn.preprocessing import LabelEncoder"
   ]
  },
  {
   "cell_type": "code",
   "execution_count": 0,
   "metadata": {
    "colab": {},
    "colab_type": "code",
    "id": "iVxg_cTLu7sU"
   },
   "outputs": [],
   "source": [
    "le = LabelEncoder()"
   ]
  },
  {
   "cell_type": "code",
   "execution_count": 0,
   "metadata": {
    "colab": {},
    "colab_type": "code",
    "id": "mo_DHGlVwWNB"
   },
   "outputs": [],
   "source": [
    "Y_train_lab = le.fit_transform(Y_train)\n",
    "Y_valid_lab = le.transform(Y_valid)"
   ]
  },
  {
   "cell_type": "code",
   "execution_count": 0,
   "metadata": {
    "colab": {},
    "colab_type": "code",
    "id": "b-rvF0hVuO9h"
   },
   "outputs": [],
   "source": [
    "lin_svc_clf = LinearSVC(random_state=2018, C = 0.055)"
   ]
  },
  {
   "cell_type": "code",
   "execution_count": 224,
   "metadata": {
    "colab": {
     "base_uri": "https://localhost:8080/",
     "height": 85
    },
    "colab_type": "code",
    "executionInfo": {
     "elapsed": 14984,
     "status": "ok",
     "timestamp": 1534092057773,
     "user": {
      "displayName": "Nishant Bhavsar",
      "photoUrl": "//lh6.googleusercontent.com/-Rn6jrAUH2RM/AAAAAAAAAAI/AAAAAAAAAA0/SbeLycr5PD8/s50-c-k-no/photo.jpg",
      "userId": "116097562907942520132"
     },
     "user_tz": -330
    },
    "id": "SrInq4rev-6a",
    "outputId": "f20611d5-24d4-4f30-fc22-473063588ce9"
   },
   "outputs": [
    {
     "data": {
      "text/plain": [
       "LinearSVC(C=0.055, class_weight=None, dual=True, fit_intercept=True,\n",
       "     intercept_scaling=1, loss='squared_hinge', max_iter=1000,\n",
       "     multi_class='ovr', penalty='l2', random_state=2018, tol=0.0001,\n",
       "     verbose=0)"
      ]
     },
     "execution_count": 224,
     "metadata": {
      "tags": []
     },
     "output_type": "execute_result"
    }
   ],
   "source": [
    "lin_svc_clf.fit(X_train_cont_doc, Y_train_lab)"
   ]
  },
  {
   "cell_type": "code",
   "execution_count": 0,
   "metadata": {
    "colab": {},
    "colab_type": "code",
    "id": "vpYMquwUw2I0"
   },
   "outputs": [],
   "source": [
    "# predict on validation set\n",
    "val_pred_svm = lin_svc_clf.predict(X_valid_cont_doc)"
   ]
  },
  {
   "cell_type": "code",
   "execution_count": 226,
   "metadata": {
    "colab": {
     "base_uri": "https://localhost:8080/",
     "height": 34
    },
    "colab_type": "code",
    "executionInfo": {
     "elapsed": 1221,
     "status": "ok",
     "timestamp": 1534092060428,
     "user": {
      "displayName": "Nishant Bhavsar",
      "photoUrl": "//lh6.googleusercontent.com/-Rn6jrAUH2RM/AAAAAAAAAAI/AAAAAAAAAA0/SbeLycr5PD8/s50-c-k-no/photo.jpg",
      "userId": "116097562907942520132"
     },
     "user_tz": -330
    },
    "id": "Y5kFDBA82H7G",
    "outputId": "b1a8fd33-61ee-41f5-d43d-f2f404063515"
   },
   "outputs": [
    {
     "data": {
      "text/plain": [
       "0.9169425201960291"
      ]
     },
     "execution_count": 226,
     "metadata": {
      "tags": []
     },
     "output_type": "execute_result"
    }
   ],
   "source": [
    "# validation set score\n",
    "f1_score(Y_valid_lab, val_pred_svm, average='weighted', labels=np.unique(val_pred_svm))"
   ]
  },
  {
   "cell_type": "code",
   "execution_count": 0,
   "metadata": {
    "colab": {},
    "colab_type": "code",
    "id": "p1LzYsWJ4XfD"
   },
   "outputs": [],
   "source": [
    "# predict on test set\n",
    "test_pred_svm = lin_svc_clf.predict(test_cont_doc)"
   ]
  },
  {
   "cell_type": "code",
   "execution_count": 228,
   "metadata": {
    "colab": {
     "base_uri": "https://localhost:8080/",
     "height": 71
    },
    "colab_type": "code",
    "executionInfo": {
     "elapsed": 1207,
     "status": "ok",
     "timestamp": 1534092063508,
     "user": {
      "displayName": "Nishant Bhavsar",
      "photoUrl": "//lh6.googleusercontent.com/-Rn6jrAUH2RM/AAAAAAAAAAI/AAAAAAAAAA0/SbeLycr5PD8/s50-c-k-no/photo.jpg",
      "userId": "116097562907942520132"
     },
     "user_tz": -330
    },
    "id": "FAgyYVI-42_T",
    "outputId": "6006d260-18ba-484b-a5a1-14b7b9ec6177"
   },
   "outputs": [
    {
     "name": "stderr",
     "output_type": "stream",
     "text": [
      "/usr/local/lib/python3.6/dist-packages/sklearn/preprocessing/label.py:151: DeprecationWarning: The truth value of an empty array is ambiguous. Returning False, but in future this will result in an error. Use `array.size > 0` to check that an array is not empty.\n",
      "  if diff:\n"
     ]
    }
   ],
   "source": [
    "sub = pd.read_csv('../input/sample_submission.csv')\n",
    "sub['Tag'] = le.inverse_transform(test_pred_svm)\n",
    "sub.to_csv('../submissions/svc.csv', index=False)"
   ]
  },
  {
   "cell_type": "code",
   "execution_count": 0,
   "metadata": {
    "colab": {},
    "colab_type": "code",
    "id": "FxOcd5Y55qlR"
   },
   "outputs": [],
   "source": [
    "!cp ../submissions/svc.csv ../../drive/ColabNotebooks/AV_innoplexus_html"
   ]
  },
  {
   "cell_type": "code",
   "execution_count": 0,
   "metadata": {
    "colab": {},
    "colab_type": "code",
    "id": "XDmYuIOo56_F"
   },
   "outputs": [],
   "source": []
  }
 ],
 "metadata": {
  "accelerator": "GPU",
  "colab": {
   "collapsed_sections": [
    "eKDcTbT9OV3S"
   ],
   "name": "Models",
   "provenance": [],
   "version": "0.3.2"
  },
  "kernelspec": {
   "display_name": "Python 3",
   "language": "python",
   "name": "python3"
  },
  "language_info": {
   "codemirror_mode": {
    "name": "ipython",
    "version": 3
   },
   "file_extension": ".py",
   "mimetype": "text/x-python",
   "name": "python",
   "nbconvert_exporter": "python",
   "pygments_lexer": "ipython3",
   "version": "3.6.5"
  }
 },
 "nbformat": 4,
 "nbformat_minor": 1
}
